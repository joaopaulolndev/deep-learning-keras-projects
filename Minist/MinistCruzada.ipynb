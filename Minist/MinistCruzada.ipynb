{
  "nbformat": 4,
  "nbformat_minor": 0,
  "metadata": {
    "colab": {
      "name": "MinistCruzada",
      "version": "0.3.2",
      "provenance": [],
      "include_colab_link": true
    },
    "kernelspec": {
      "name": "python3",
      "display_name": "Python 3"
    }
  },
  "cells": [
    {
      "cell_type": "markdown",
      "metadata": {
        "id": "view-in-github",
        "colab_type": "text"
      },
      "source": [
        "<a href=\"https://colab.research.google.com/github/joaopaulolndev/deep-learning-keras-projects/blob/master/Minist/MinistCruzada.ipynb\" target=\"_parent\"><img src=\"https://colab.research.google.com/assets/colab-badge.svg\" alt=\"Open In Colab\"/></a>"
      ]
    },
    {
      "metadata": {
        "id": "YVZiH0bfIcxc",
        "colab_type": "code",
        "colab": {}
      },
      "cell_type": "code",
      "source": [
        "import matplotlib.pyplot as plt\n",
        "\n",
        "from keras.datasets import mnist\n",
        "from keras.models import Sequential\n",
        "from keras.layers import Dense, Flatten, Dropout, Conv2D, MaxPooling2D\n",
        "from keras.utils import np_utils\n",
        "from keras.layers.normalization import BatchNormalization\n",
        "\n",
        "from sklearn.model_selection import StratifiedKFold"
      ],
      "execution_count": 0,
      "outputs": []
    },
    {
      "metadata": {
        "id": "byM9kpP0IexT",
        "colab_type": "code",
        "colab": {}
      },
      "cell_type": "code",
      "source": [
        "seed = 5\n",
        "np.random.seed(seed)"
      ],
      "execution_count": 0,
      "outputs": []
    },
    {
      "metadata": {
        "id": "i5NVikpmLnc-",
        "colab_type": "code",
        "colab": {}
      },
      "cell_type": "code",
      "source": [
        "(X,y),(X_teste, y_teste) = mnist.load_data()"
      ],
      "execution_count": 0,
      "outputs": []
    },
    {
      "metadata": {
        "id": "s0CHbwa5LtMT",
        "colab_type": "code",
        "colab": {}
      },
      "cell_type": "code",
      "source": [
        "previsores = X.reshape(X.shape[0], 28, 28, 1)\n",
        "previsores = previsores.astype('float32')\n",
        "previsores /= 255"
      ],
      "execution_count": 0,
      "outputs": []
    },
    {
      "metadata": {
        "id": "IdrUiRpDL9Ie",
        "colab_type": "code",
        "colab": {}
      },
      "cell_type": "code",
      "source": [
        "classe = np_utils.to_categorical(y, 10)"
      ],
      "execution_count": 0,
      "outputs": []
    },
    {
      "metadata": {
        "id": "0KPKPLhwMFX8",
        "colab_type": "code",
        "colab": {}
      },
      "cell_type": "code",
      "source": [
        "kfold = StratifiedKFold(n_splits=5, shuffle= True, random_state= seed)"
      ],
      "execution_count": 0,
      "outputs": []
    },
    {
      "metadata": {
        "id": "WB42adv5MToO",
        "colab_type": "code",
        "colab": {}
      },
      "cell_type": "code",
      "source": [
        "resultados = []"
      ],
      "execution_count": 0,
      "outputs": []
    },
    {
      "metadata": {
        "id": "HhP8MP74MZPv",
        "colab_type": "code",
        "colab": {}
      },
      "cell_type": "code",
      "source": [
        "a = np.zeros(5)\n",
        "b = np.zeros(shape = (classe.shape[0],1))"
      ],
      "execution_count": 0,
      "outputs": []
    },
    {
      "metadata": {
        "id": "5lpWW_2jMgzL",
        "colab_type": "code",
        "outputId": "e0914f68-2f70-4b4a-825d-0caade5a50f7",
        "colab": {
          "base_uri": "https://localhost:8080/",
          "height": 833
        }
      },
      "cell_type": "code",
      "source": [
        "for indice_treinamento, indice_teste in kfold.split(previsores, np.zeros(shape = (classe.shape[0],1))): \n",
        "  #print('Indices treinamento: ', indice_treinamento, 'Indice teste:', indice_teste)\n",
        "    classificador = Sequential()\n",
        "    classificador.add( Conv2D( 32, (3,3), input_shape=(28,28,1), activation = 'relu' ) )\n",
        "    classificador.add(MaxPooling2D(pool_size=(2,2)))\n",
        "    classificador.add(Flatten())\n",
        "    classificador.add( Dense( units=128, activation='relu') )\n",
        "    classificador.add( Dense( units=10, activation='softmax') )\n",
        "    classificador.compile(loss='categorical_crossentropy', optimizer = 'adam', metrics = ['accuracy'])\n",
        "    classificador.fit(previsores[indice_treinamento], classe[indice_treinamento], batch_size = 125, epochs = 5)\n",
        "    \n",
        "    precisao = classificador.evaluate(previsores[indice_teste], classe[indice_teste])\n",
        "    resultados.append(precisao[1])\n"
      ],
      "execution_count": 0,
      "outputs": [
        {
          "output_type": "stream",
          "text": [
            "Epoch 1/5\n",
            "48000/48000 [==============================] - 29s 608us/step - loss: 0.2372 - acc: 0.9319\n",
            "Epoch 2/5\n",
            "48000/48000 [==============================] - 29s 596us/step - loss: 0.0738 - acc: 0.9787\n",
            "Epoch 3/5\n",
            "48000/48000 [==============================] - 29s 604us/step - loss: 0.0492 - acc: 0.9854\n",
            "Epoch 4/5\n",
            "48000/48000 [==============================] - 28s 594us/step - loss: 0.0348 - acc: 0.9896\n",
            "Epoch 5/5\n",
            "48000/48000 [==============================] - 28s 594us/step - loss: 0.0268 - acc: 0.9921\n",
            "12000/12000 [==============================] - 3s 239us/step\n",
            "Epoch 1/5\n",
            "48000/48000 [==============================] - 30s 615us/step - loss: 0.2421 - acc: 0.9328\n",
            "Epoch 2/5\n",
            "48000/48000 [==============================] - 29s 610us/step - loss: 0.0768 - acc: 0.9775\n",
            "Epoch 3/5\n",
            "48000/48000 [==============================] - 29s 612us/step - loss: 0.0508 - acc: 0.9849\n",
            "Epoch 4/5\n",
            "48000/48000 [==============================] - 29s 608us/step - loss: 0.0363 - acc: 0.9895\n",
            "Epoch 5/5\n",
            "48000/48000 [==============================] - 29s 607us/step - loss: 0.0294 - acc: 0.9911\n",
            "12000/12000 [==============================] - 3s 242us/step\n",
            "Epoch 1/5\n",
            "48000/48000 [==============================] - 31s 639us/step - loss: 0.2478 - acc: 0.9306\n",
            "Epoch 2/5\n",
            "48000/48000 [==============================] - 30s 626us/step - loss: 0.0771 - acc: 0.9775\n",
            "Epoch 3/5\n",
            "48000/48000 [==============================] - 31s 649us/step - loss: 0.0528 - acc: 0.9842\n",
            "Epoch 4/5\n",
            "48000/48000 [==============================] - 31s 636us/step - loss: 0.0374 - acc: 0.9887\n",
            "Epoch 5/5\n",
            "48000/48000 [==============================] - 31s 640us/step - loss: 0.0292 - acc: 0.9906\n",
            "12000/12000 [==============================] - 3s 260us/step\n",
            "Epoch 1/5\n",
            "48000/48000 [==============================] - 30s 633us/step - loss: 0.2627 - acc: 0.9248\n",
            "Epoch 2/5\n",
            "48000/48000 [==============================] - 30s 617us/step - loss: 0.0838 - acc: 0.9761\n",
            "Epoch 3/5\n",
            "48000/48000 [==============================] - 30s 617us/step - loss: 0.0550 - acc: 0.9836\n",
            "Epoch 4/5\n",
            "48000/48000 [==============================] - 29s 613us/step - loss: 0.0401 - acc: 0.9883\n",
            "Epoch 5/5\n",
            "48000/48000 [==============================] - 29s 610us/step - loss: 0.0310 - acc: 0.9905\n",
            "12000/12000 [==============================] - 3s 254us/step\n",
            "Epoch 1/5\n",
            "48000/48000 [==============================] - 30s 629us/step - loss: 0.2519 - acc: 0.9268\n",
            "Epoch 2/5\n",
            "32375/48000 [===================>..........] - ETA: 9s - loss: 0.0799 - acc: 0.9773"
          ],
          "name": "stdout"
        }
      ]
    },
    {
      "metadata": {
        "id": "9ez_T9CMaa7G",
        "colab_type": "code",
        "outputId": "19574897-c53d-4991-ff46-09a9b664b7b0",
        "colab": {
          "base_uri": "https://localhost:8080/",
          "height": 34
        }
      },
      "cell_type": "code",
      "source": [
        "#media = resultados.mean()\n",
        "media = sum(resultados) / len(resultados)\n",
        "media"
      ],
      "execution_count": 0,
      "outputs": [
        {
          "output_type": "execute_result",
          "data": {
            "text/plain": [
              "0.9846666666666666"
            ]
          },
          "metadata": {
            "tags": []
          },
          "execution_count": 58
        }
      ]
    },
    {
      "metadata": {
        "id": "DpjPhcxrg_g0",
        "colab_type": "code",
        "colab": {}
      },
      "cell_type": "code",
      "source": [
        ""
      ],
      "execution_count": 0,
      "outputs": []
    }
  ]
}