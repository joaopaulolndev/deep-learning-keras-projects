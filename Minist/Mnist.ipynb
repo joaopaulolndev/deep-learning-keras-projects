{
  "nbformat": 4,
  "nbformat_minor": 0,
  "metadata": {
    "colab": {
      "name": "Mnist",
      "version": "0.3.2",
      "provenance": [],
      "collapsed_sections": [],
      "include_colab_link": true
    },
    "kernelspec": {
      "name": "python3",
      "display_name": "Python 3"
    }
  },
  "cells": [
    {
      "cell_type": "markdown",
      "metadata": {
        "id": "view-in-github",
        "colab_type": "text"
      },
      "source": [
        "<a href=\"https://colab.research.google.com/github/joaopaulolndev/deep-learning-keras-projects/blob/master/Minist/Mnist.ipynb\" target=\"_parent\"><img src=\"https://colab.research.google.com/assets/colab-badge.svg\" alt=\"Open In Colab\"/></a>"
      ]
    },
    {
      "metadata": {
        "id": "clMVYZwqxbN7",
        "colab_type": "code",
        "colab": {}
      },
      "cell_type": "code",
      "source": [
        "import matplotlib.pyplot as plt\n",
        "\n",
        "from keras.datasets import mnist\n",
        "from keras.models import Sequential\n",
        "from keras.layers import Dense, Flatten, Dropout\n",
        "from keras.utils import np_utils\n",
        "from keras.layers import Conv2D, MaxPooling2D\n",
        "from keras.layers.normalization import BatchNormalization"
      ],
      "execution_count": 0,
      "outputs": []
    },
    {
      "metadata": {
        "id": "hvdSDN-PxqTY",
        "colab_type": "code",
        "colab": {}
      },
      "cell_type": "code",
      "source": [
        "(X_treinamento, y_treinamento),(X_teste, y_teste) = mnist.load_data()"
      ],
      "execution_count": 0,
      "outputs": []
    },
    {
      "metadata": {
        "id": "w2SVVNrwyerE",
        "colab_type": "code",
        "outputId": "3e8949e2-5dba-4d2e-eeea-bf99c04d3c32",
        "colab": {
          "base_uri": "https://localhost:8080/",
          "height": 379
        }
      },
      "cell_type": "code",
      "source": [
        "plt.imshow(X_treinamento[0], cmap='gray')\n",
        "plt.title('Classe ' + str(y_treinamento[0]) )"
      ],
      "execution_count": 0,
      "outputs": [
        {
          "output_type": "execute_result",
          "data": {
            "text/plain": [
              "Text(0.5, 1.0, 'Classe 5')"
            ]
          },
          "metadata": {
            "tags": []
          },
          "execution_count": 102
        },
        {
          "output_type": "display_data",
          "data": {
            "image/png": "[encoded data removed]",
            "text/plain": [
              "<Figure size 576x396 with 1 Axes>"
            ]
          },
          "metadata": {
            "tags": []
          }
        }
      ]
    },
    {
      "metadata": {
        "id": "rVsXFx7kyixz",
        "colab_type": "code",
        "colab": {}
      },
      "cell_type": "code",
      "source": [
        "previsores_treinamento = X_treinamento.reshape(X_treinamento.shape[0], 28, 28, 1)"
      ],
      "execution_count": 0,
      "outputs": []
    },
    {
      "metadata": {
        "id": "K0d6GiH386tG",
        "colab_type": "code",
        "colab": {}
      },
      "cell_type": "code",
      "source": [
        "previsores_teste = X_teste.reshape(X_teste.shape[0], 28, 28, 1)"
      ],
      "execution_count": 0,
      "outputs": []
    },
    {
      "metadata": {
        "id": "lS657sPQ9d1V",
        "colab_type": "code",
        "colab": {}
      },
      "cell_type": "code",
      "source": [
        "previsores_treinamento = previsores_treinamento.astype('float32')\n",
        "previsores_teste       = previsores_teste.astype('float32')"
      ],
      "execution_count": 0,
      "outputs": []
    },
    {
      "metadata": {
        "id": "onwuGaD_9wEU",
        "colab_type": "code",
        "colab": {}
      },
      "cell_type": "code",
      "source": [
        "previsores_treinamento /= 255\n",
        "previsores_teste /= 255"
      ],
      "execution_count": 0,
      "outputs": []
    },
    {
      "metadata": {
        "id": "bPv3WNmH_e8o",
        "colab_type": "code",
        "colab": {}
      },
      "cell_type": "code",
      "source": [
        "classe_treinamento = np_utils.to_categorical(y_treinamento, 10)"
      ],
      "execution_count": 0,
      "outputs": []
    },
    {
      "metadata": {
        "id": "E2ruWFeL_pLH",
        "colab_type": "code",
        "colab": {}
      },
      "cell_type": "code",
      "source": [
        "classe_teste = np_utils.to_categorical(y_teste, 10)"
      ],
      "execution_count": 0,
      "outputs": []
    },
    {
      "metadata": {
        "id": "SGZjQ03MAaww",
        "colab_type": "code",
        "colab": {}
      },
      "cell_type": "code",
      "source": [
        "classificador = Sequential()\n",
        "classificador.add( Conv2D( 32, (3,3), input_shape=(28,28,1), activation = 'relu' ) )\n",
        "classificador.add(BatchNormalization())\n",
        "classificador.add(MaxPooling2D(pool_size=(2,2)))\n",
        "\n",
        "\n",
        "classificador.add(Conv2D( 32, (3,3), activation = 'relu' ))\n",
        "classificador.add(BatchNormalization())\n",
        "classificador.add(MaxPooling2D(pool_size=(2,2)))\n",
        "classificador.add(Flatten())\n",
        "\n",
        "classificador.add( Dense( units=128, activation='relu') )\n",
        "classificador.add(Dropout(0.2))\n",
        "classificador.add( Dense( units=128, activation='relu') )\n",
        "classificador.add(Dropout(0.2))\n",
        "classificador.add( Dense( units=10, activation='softmax') )"
      ],
      "execution_count": 0,
      "outputs": []
    },
    {
      "metadata": {
        "id": "3XLbuNj-BAnR",
        "colab_type": "code",
        "colab": {}
      },
      "cell_type": "code",
      "source": [
        "classificador.compile(loss='categorical_crossentropy', optimizer = 'adam', metrics = ['accuracy'])"
      ],
      "execution_count": 0,
      "outputs": []
    },
    {
      "metadata": {
        "id": "pindOPTkEduT",
        "colab_type": "code",
        "outputId": "a52e4399-cee7-40d3-ce01-046838ed2bcf",
        "colab": {
          "base_uri": "https://localhost:8080/",
          "height": 221
        }
      },
      "cell_type": "code",
      "source": [
        "classificador.fit(previsores_treinamento, classe_treinamento, batch_size=128, epochs=5, validation_data=(previsores_teste, classe_teste))"
      ],
      "execution_count": 0,
      "outputs": [
        {
          "output_type": "stream",
          "text": [
            "Train on 60000 samples, validate on 10000 samples\n",
            "Epoch 1/5\n",
            "60000/60000 [==============================] - 133s 2ms/step - loss: 0.2043 - acc: 0.9364 - val_loss: 0.0522 - val_acc: 0.9831\n",
            "Epoch 2/5\n",
            "60000/60000 [==============================] - 132s 2ms/step - loss: 0.0656 - acc: 0.9804 - val_loss: 0.0396 - val_acc: 0.9872\n",
            "Epoch 3/5\n",
            "60000/60000 [==============================] - 132s 2ms/step - loss: 0.0476 - acc: 0.9858 - val_loss: 0.0379 - val_acc: 0.9882\n",
            "Epoch 4/5\n",
            "60000/60000 [==============================] - 132s 2ms/step - loss: 0.0378 - acc: 0.9884 - val_loss: 0.0307 - val_acc: 0.9900\n",
            "Epoch 5/5\n",
            "60000/60000 [==============================] - 132s 2ms/step - loss: 0.0299 - acc: 0.9911 - val_loss: 0.0293 - val_acc: 0.9905\n"
          ],
          "name": "stdout"
        },
        {
          "output_type": "execute_result",
          "data": {
            "text/plain": [
              "<keras.callbacks.History at 0x7f0bdc1829b0>"
            ]
          },
          "metadata": {
            "tags": []
          },
          "execution_count": 111
        }
      ]
    },
    {
      "metadata": {
        "id": "Lsvrs8CnE0ru",
        "colab_type": "code",
        "outputId": "011fc5e6-12c2-4172-f156-5aae97e7b0f7",
        "colab": {
          "base_uri": "https://localhost:8080/",
          "height": 34
        }
      },
      "cell_type": "code",
      "source": [
        "resultado = classificador.evaluate(previsores_teste, classe_teste)"
      ],
      "execution_count": 0,
      "outputs": [
        {
          "output_type": "stream",
          "text": [
            "10000/10000 [==============================] - 6s 601us/step\n"
          ],
          "name": "stdout"
        }
      ]
    }
  ]
}