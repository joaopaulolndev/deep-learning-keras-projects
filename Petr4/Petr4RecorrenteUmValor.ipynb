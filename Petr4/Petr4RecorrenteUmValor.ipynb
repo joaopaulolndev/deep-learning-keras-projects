{
  "nbformat": 4,
  "nbformat_minor": 0,
  "metadata": {
    "colab": {
      "name": "Petr4RecorrenteUmValor",
      "version": "0.3.2",
      "provenance": [],
      "include_colab_link": true
    },
    "kernelspec": {
      "name": "python3",
      "display_name": "Python 3"
    }
  },
  "cells": [
    {
      "cell_type": "markdown",
      "metadata": {
        "id": "view-in-github",
        "colab_type": "text"
      },
      "source": [
        "<a href=\"https://colab.research.google.com/github/joaopaulolndev/deep-learning-keras-projects/blob/master/Petr4/Petr4RecorrenteUmValor.ipynb\" target=\"_parent\"><img src=\"https://colab.research.google.com/assets/colab-badge.svg\" alt=\"Open In Colab\"/></a>"
      ]
    },
    {
      "metadata": {
        "id": "ScL6UcTILlBt",
        "colab_type": "code",
        "colab": {}
      },
      "cell_type": "code",
      "source": [
        "# Code to read csv file into Colaboratory:\n",
        "!pip install -U -q PyDrive\n",
        "from pydrive.auth import GoogleAuth\n",
        "from pydrive.drive import GoogleDrive\n",
        "from google.colab import auth\n",
        "from oauth2client.client import GoogleCredentials\n",
        "# Authenticate and create the PyDrive client.\n",
        "auth.authenticate_user()\n",
        "gauth = GoogleAuth()\n",
        "gauth.credentials = GoogleCredentials.get_application_default()\n",
        "drive = GoogleDrive(gauth)"
      ],
      "execution_count": 0,
      "outputs": []
    },
    {
      "metadata": {
        "id": "b5plZ2LBK_de",
        "colab_type": "code",
        "colab": {}
      },
      "cell_type": "code",
      "source": [
        "from keras.models import Sequential\n",
        "from keras.layers import Dense, Dropout, LSTM\n",
        "import numpy as np\n",
        "import pandas as pd\n",
        "\n",
        "from sklearn.preprocessing import MinMaxScaler\n",
        "\n",
        "import matplotlib.pyplot as plt"
      ],
      "execution_count": 0,
      "outputs": []
    },
    {
      "metadata": {
        "id": "tKrjmJF8L9Uu",
        "colab_type": "code",
        "colab": {}
      },
      "cell_type": "code",
      "source": [
        "# Carrega arquivo de entrada https://drive.google.com/open?id=1ZCOa8Z2Iq78AgvDjqEATOuSb40UZw-Jy\n",
        "file_entrada = drive.CreateFile({'id':'1ZCOa8Z2Iq78AgvDjqEATOuSb40UZw-Jy'}) \n",
        "file_entrada.GetContentFile('petr4_treinamento.csv')  \n",
        "base = pd.read_csv('petr4_treinamento.csv')"
      ],
      "execution_count": 0,
      "outputs": []
    },
    {
      "metadata": {
        "id": "KJNjbnBfMkYm",
        "colab_type": "code",
        "colab": {}
      },
      "cell_type": "code",
      "source": [
        "base = base.dropna()"
      ],
      "execution_count": 0,
      "outputs": []
    },
    {
      "metadata": {
        "id": "r8lxwAOaM-2W",
        "colab_type": "code",
        "colab": {}
      },
      "cell_type": "code",
      "source": [
        "base_treinamento = base.iloc[:, 1:2].values"
      ],
      "execution_count": 0,
      "outputs": []
    },
    {
      "metadata": {
        "id": "MjoKzEs_NNXP",
        "colab_type": "code",
        "colab": {}
      },
      "cell_type": "code",
      "source": [
        "normalizador = MinMaxScaler(feature_range=(0,1))"
      ],
      "execution_count": 0,
      "outputs": []
    },
    {
      "metadata": {
        "id": "Hpt3Fv0nNdMg",
        "colab_type": "code",
        "colab": {}
      },
      "cell_type": "code",
      "source": [
        "base_treinamento_normalizada = normalizador.fit_transform(base_treinamento)"
      ],
      "execution_count": 0,
      "outputs": []
    },
    {
      "metadata": {
        "id": "NxWmHWCmNrR5",
        "colab_type": "code",
        "colab": {}
      },
      "cell_type": "code",
      "source": [
        "previsores = []\n",
        "preco_real = []"
      ],
      "execution_count": 0,
      "outputs": []
    },
    {
      "metadata": {
        "id": "zpZi9fLFRGbX",
        "colab_type": "code",
        "colab": {}
      },
      "cell_type": "code",
      "source": [
        "for i in range(90, 1242):\n",
        "  previsores.append(base_treinamento_normalizada[i-90:i, 0])\n",
        "  preco_real.append(base_treinamento_normalizada[i, 0])"
      ],
      "execution_count": 0,
      "outputs": []
    },
    {
      "metadata": {
        "id": "1oYcdD1PSYUh",
        "colab_type": "code",
        "colab": {}
      },
      "cell_type": "code",
      "source": [
        "previsores, preco_real = np.array(previsores), np.array(preco_real)"
      ],
      "execution_count": 0,
      "outputs": []
    },
    {
      "metadata": {
        "id": "FahomAuwSmDD",
        "colab_type": "code",
        "colab": {}
      },
      "cell_type": "code",
      "source": [
        "previsores = np.reshape(previsores, (previsores.shape[0], previsores.shape[1], 1))"
      ],
      "execution_count": 0,
      "outputs": []
    },
    {
      "metadata": {
        "id": "nHQWXIckSqYM",
        "colab_type": "code",
        "colab": {}
      },
      "cell_type": "code",
      "source": [
        "regressor = Sequential()\n",
        "regressor.add(LSTM(units=100, return_sequences=True, input_shape = (previsores.shape[1], 1 )))\n",
        "regressor.add(Dropout(0.3))"
      ],
      "execution_count": 0,
      "outputs": []
    },
    {
      "metadata": {
        "id": "4eCIWp8gWB3U",
        "colab_type": "code",
        "colab": {}
      },
      "cell_type": "code",
      "source": [
        "regressor.add(LSTM(units=50, return_sequences=True)) # na ultima camada nao pode ter return_sequences\n",
        "regressor.add(Dropout(0.3))\n",
        "\n",
        "regressor.add(LSTM(units=50, return_sequences=True)) # na ultima camada nao pode ter return_sequences\n",
        "regressor.add(Dropout(0.3))"
      ],
      "execution_count": 0,
      "outputs": []
    },
    {
      "metadata": {
        "id": "lJMMCeLBUI-o",
        "colab_type": "code",
        "colab": {}
      },
      "cell_type": "code",
      "source": [
        "regressor.add(LSTM(units=50)) # na ultima camada nao pode ter return_sequences\n",
        "regressor.add(Dropout(0.3))"
      ],
      "execution_count": 0,
      "outputs": []
    },
    {
      "metadata": {
        "id": "vTRKg_gZU8aR",
        "colab_type": "code",
        "colab": {}
      },
      "cell_type": "code",
      "source": [
        "regressor.add(Dense(units=1, activation='linear'))"
      ],
      "execution_count": 0,
      "outputs": []
    },
    {
      "metadata": {
        "id": "uBvojTJ8VO6B",
        "colab_type": "code",
        "colab": {}
      },
      "cell_type": "code",
      "source": [
        "regressor.compile(optimizer='rmsprop', loss='mean_squared_error', metrics=['mean_absolute_error'])"
      ],
      "execution_count": 0,
      "outputs": []
    },
    {
      "metadata": {
        "id": "xkv4ky_lVgkq",
        "colab_type": "code",
        "outputId": "f773562a-52ef-41e7-d5d2-4c5acb7aa260",
        "colab": {
          "base_uri": "https://localhost:8080/",
          "height": 3434
        }
      },
      "cell_type": "code",
      "source": [
        "regressor.fit(previsores, preco_real, epochs=100, batch_size=32 ) #importante rodar 100 epocas nesse tipo de algoritimos"
      ],
      "execution_count": 0,
      "outputs": [
        {
          "output_type": "stream",
          "text": [
            "Epoch 1/100\n",
            "1152/1152 [==============================] - 14s 12ms/step - loss: 0.0342 - mean_absolute_error: 0.1379\n",
            "Epoch 2/100\n",
            "1152/1152 [==============================] - 11s 9ms/step - loss: 0.0172 - mean_absolute_error: 0.1017\n",
            "Epoch 3/100\n",
            "1152/1152 [==============================] - 11s 9ms/step - loss: 0.0125 - mean_absolute_error: 0.0865\n",
            "Epoch 4/100\n",
            "1152/1152 [==============================] - 11s 9ms/step - loss: 0.0122 - mean_absolute_error: 0.0845\n",
            "Epoch 5/100\n",
            "1152/1152 [==============================] - 11s 9ms/step - loss: 0.0089 - mean_absolute_error: 0.0710\n",
            "Epoch 6/100\n",
            "1152/1152 [==============================] - 11s 9ms/step - loss: 0.0093 - mean_absolute_error: 0.0735\n",
            "Epoch 7/100\n",
            "1152/1152 [==============================] - 11s 9ms/step - loss: 0.0082 - mean_absolute_error: 0.0689\n",
            "Epoch 8/100\n",
            "1152/1152 [==============================] - 11s 9ms/step - loss: 0.0077 - mean_absolute_error: 0.0667\n",
            "Epoch 9/100\n",
            "1152/1152 [==============================] - 11s 10ms/step - loss: 0.0067 - mean_absolute_error: 0.0621\n",
            "Epoch 10/100\n",
            "1152/1152 [==============================] - 11s 9ms/step - loss: 0.0064 - mean_absolute_error: 0.0622\n",
            "Epoch 11/100\n",
            "1152/1152 [==============================] - 11s 10ms/step - loss: 0.0061 - mean_absolute_error: 0.0596\n",
            "Epoch 12/100\n",
            "1152/1152 [==============================] - 11s 10ms/step - loss: 0.0059 - mean_absolute_error: 0.0582\n",
            "Epoch 13/100\n",
            "1152/1152 [==============================] - 11s 9ms/step - loss: 0.0058 - mean_absolute_error: 0.0577\n",
            "Epoch 14/100\n",
            "1152/1152 [==============================] - 11s 9ms/step - loss: 0.0052 - mean_absolute_error: 0.0552\n",
            "Epoch 15/100\n",
            "1152/1152 [==============================] - 11s 9ms/step - loss: 0.0048 - mean_absolute_error: 0.0528\n",
            "Epoch 16/100\n",
            "1152/1152 [==============================] - 11s 9ms/step - loss: 0.0046 - mean_absolute_error: 0.0518\n",
            "Epoch 17/100\n",
            "1152/1152 [==============================] - 11s 9ms/step - loss: 0.0044 - mean_absolute_error: 0.0506\n",
            "Epoch 18/100\n",
            "1152/1152 [==============================] - 11s 9ms/step - loss: 0.0044 - mean_absolute_error: 0.0505\n",
            "Epoch 19/100\n",
            "1152/1152 [==============================] - 11s 9ms/step - loss: 0.0040 - mean_absolute_error: 0.0493\n",
            "Epoch 20/100\n",
            "1152/1152 [==============================] - 11s 9ms/step - loss: 0.0040 - mean_absolute_error: 0.0479\n",
            "Epoch 21/100\n",
            "1152/1152 [==============================] - 11s 9ms/step - loss: 0.0041 - mean_absolute_error: 0.0492\n",
            "Epoch 22/100\n",
            "1152/1152 [==============================] - 11s 9ms/step - loss: 0.0037 - mean_absolute_error: 0.0462\n",
            "Epoch 23/100\n",
            "1152/1152 [==============================] - 11s 9ms/step - loss: 0.0037 - mean_absolute_error: 0.0456\n",
            "Epoch 24/100\n",
            "1152/1152 [==============================] - 11s 9ms/step - loss: 0.0038 - mean_absolute_error: 0.0465\n",
            "Epoch 25/100\n",
            "1152/1152 [==============================] - 11s 9ms/step - loss: 0.0035 - mean_absolute_error: 0.0458\n",
            "Epoch 26/100\n",
            "1152/1152 [==============================] - 11s 9ms/step - loss: 0.0033 - mean_absolute_error: 0.0443\n",
            "Epoch 27/100\n",
            "1152/1152 [==============================] - 11s 9ms/step - loss: 0.0036 - mean_absolute_error: 0.0455\n",
            "Epoch 28/100\n",
            "1152/1152 [==============================] - 11s 9ms/step - loss: 0.0035 - mean_absolute_error: 0.0445\n",
            "Epoch 29/100\n",
            "1152/1152 [==============================] - 11s 9ms/step - loss: 0.0032 - mean_absolute_error: 0.0422\n",
            "Epoch 30/100\n",
            "1152/1152 [==============================] - 11s 9ms/step - loss: 0.0030 - mean_absolute_error: 0.0418\n",
            "Epoch 31/100\n",
            "1152/1152 [==============================] - 11s 9ms/step - loss: 0.0028 - mean_absolute_error: 0.0405\n",
            "Epoch 32/100\n",
            "1152/1152 [==============================] - 11s 9ms/step - loss: 0.0032 - mean_absolute_error: 0.0434\n",
            "Epoch 33/100\n",
            "1152/1152 [==============================] - 11s 9ms/step - loss: 0.0027 - mean_absolute_error: 0.0403\n",
            "Epoch 34/100\n",
            "1152/1152 [==============================] - 11s 9ms/step - loss: 0.0028 - mean_absolute_error: 0.0402\n",
            "Epoch 35/100\n",
            "1152/1152 [==============================] - 11s 9ms/step - loss: 0.0028 - mean_absolute_error: 0.0405\n",
            "Epoch 36/100\n",
            "1152/1152 [==============================] - 11s 10ms/step - loss: 0.0030 - mean_absolute_error: 0.0417\n",
            "Epoch 37/100\n",
            "1152/1152 [==============================] - 11s 10ms/step - loss: 0.0025 - mean_absolute_error: 0.0383\n",
            "Epoch 38/100\n",
            "1152/1152 [==============================] - 11s 9ms/step - loss: 0.0026 - mean_absolute_error: 0.0392\n",
            "Epoch 39/100\n",
            "1152/1152 [==============================] - 11s 9ms/step - loss: 0.0029 - mean_absolute_error: 0.0402\n",
            "Epoch 40/100\n",
            "1152/1152 [==============================] - 11s 10ms/step - loss: 0.0023 - mean_absolute_error: 0.0372\n",
            "Epoch 41/100\n",
            "1152/1152 [==============================] - 11s 9ms/step - loss: 0.0024 - mean_absolute_error: 0.0374\n",
            "Epoch 42/100\n",
            "1152/1152 [==============================] - 11s 9ms/step - loss: 0.0025 - mean_absolute_error: 0.0382\n",
            "Epoch 43/100\n",
            "1152/1152 [==============================] - 11s 9ms/step - loss: 0.0022 - mean_absolute_error: 0.0353\n",
            "Epoch 44/100\n",
            "1152/1152 [==============================] - 11s 9ms/step - loss: 0.0024 - mean_absolute_error: 0.0375\n",
            "Epoch 45/100\n",
            "1152/1152 [==============================] - 11s 9ms/step - loss: 0.0023 - mean_absolute_error: 0.0368\n",
            "Epoch 46/100\n",
            "1152/1152 [==============================] - 11s 9ms/step - loss: 0.0025 - mean_absolute_error: 0.0377\n",
            "Epoch 47/100\n",
            "1152/1152 [==============================] - 11s 9ms/step - loss: 0.0023 - mean_absolute_error: 0.0368\n",
            "Epoch 48/100\n",
            "1152/1152 [==============================] - 11s 9ms/step - loss: 0.0023 - mean_absolute_error: 0.0360\n",
            "Epoch 49/100\n",
            "1152/1152 [==============================] - 11s 9ms/step - loss: 0.0021 - mean_absolute_error: 0.0352\n",
            "Epoch 50/100\n",
            "1152/1152 [==============================] - 11s 9ms/step - loss: 0.0020 - mean_absolute_error: 0.0337\n",
            "Epoch 51/100\n",
            "1152/1152 [==============================] - 11s 9ms/step - loss: 0.0021 - mean_absolute_error: 0.0349\n",
            "Epoch 52/100\n",
            "1152/1152 [==============================] - 11s 9ms/step - loss: 0.0019 - mean_absolute_error: 0.0335\n",
            "Epoch 53/100\n",
            "1152/1152 [==============================] - 11s 9ms/step - loss: 0.0021 - mean_absolute_error: 0.0351\n",
            "Epoch 54/100\n",
            "1152/1152 [==============================] - 11s 9ms/step - loss: 0.0020 - mean_absolute_error: 0.0334\n",
            "Epoch 55/100\n",
            "1152/1152 [==============================] - 11s 9ms/step - loss: 0.0021 - mean_absolute_error: 0.0349\n",
            "Epoch 56/100\n",
            "1152/1152 [==============================] - 11s 9ms/step - loss: 0.0019 - mean_absolute_error: 0.0333\n",
            "Epoch 57/100\n",
            "1152/1152 [==============================] - 11s 9ms/step - loss: 0.0020 - mean_absolute_error: 0.0342\n",
            "Epoch 58/100\n",
            "1152/1152 [==============================] - 11s 9ms/step - loss: 0.0020 - mean_absolute_error: 0.0339\n",
            "Epoch 59/100\n",
            "1152/1152 [==============================] - 11s 9ms/step - loss: 0.0019 - mean_absolute_error: 0.0334\n",
            "Epoch 60/100\n",
            "1152/1152 [==============================] - 11s 9ms/step - loss: 0.0018 - mean_absolute_error: 0.0320\n",
            "Epoch 61/100\n",
            "1152/1152 [==============================] - 11s 9ms/step - loss: 0.0020 - mean_absolute_error: 0.0340\n",
            "Epoch 62/100\n",
            "1152/1152 [==============================] - 11s 9ms/step - loss: 0.0019 - mean_absolute_error: 0.0334\n",
            "Epoch 63/100\n",
            "1152/1152 [==============================] - 11s 9ms/step - loss: 0.0019 - mean_absolute_error: 0.0325\n",
            "Epoch 64/100\n",
            "1152/1152 [==============================] - 11s 9ms/step - loss: 0.0018 - mean_absolute_error: 0.0328\n",
            "Epoch 65/100\n",
            "1152/1152 [==============================] - 11s 10ms/step - loss: 0.0019 - mean_absolute_error: 0.0336\n",
            "Epoch 66/100\n",
            "1152/1152 [==============================] - 11s 9ms/step - loss: 0.0018 - mean_absolute_error: 0.0322\n",
            "Epoch 67/100\n",
            "1152/1152 [==============================] - 11s 9ms/step - loss: 0.0018 - mean_absolute_error: 0.0315\n",
            "Epoch 68/100\n",
            "1152/1152 [==============================] - 11s 9ms/step - loss: 0.0017 - mean_absolute_error: 0.0315\n",
            "Epoch 69/100\n",
            "1152/1152 [==============================] - 11s 10ms/step - loss: 0.0018 - mean_absolute_error: 0.0325\n",
            "Epoch 70/100\n",
            "1152/1152 [==============================] - 11s 9ms/step - loss: 0.0017 - mean_absolute_error: 0.0313\n",
            "Epoch 71/100\n",
            "1152/1152 [==============================] - 11s 9ms/step - loss: 0.0019 - mean_absolute_error: 0.0322\n",
            "Epoch 72/100\n",
            "1152/1152 [==============================] - 11s 9ms/step - loss: 0.0016 - mean_absolute_error: 0.0304\n",
            "Epoch 73/100\n",
            "1152/1152 [==============================] - 11s 9ms/step - loss: 0.0019 - mean_absolute_error: 0.0332\n",
            "Epoch 74/100\n",
            "1152/1152 [==============================] - 11s 9ms/step - loss: 0.0016 - mean_absolute_error: 0.0307\n",
            "Epoch 75/100\n",
            "1152/1152 [==============================] - 11s 9ms/step - loss: 0.0016 - mean_absolute_error: 0.0310\n",
            "Epoch 76/100\n",
            "1152/1152 [==============================] - 11s 9ms/step - loss: 0.0016 - mean_absolute_error: 0.0300\n",
            "Epoch 77/100\n",
            "1152/1152 [==============================] - 11s 9ms/step - loss: 0.0017 - mean_absolute_error: 0.0310\n",
            "Epoch 78/100\n",
            "1152/1152 [==============================] - 11s 9ms/step - loss: 0.0016 - mean_absolute_error: 0.0312\n",
            "Epoch 79/100\n",
            "1152/1152 [==============================] - 11s 9ms/step - loss: 0.0016 - mean_absolute_error: 0.0308\n",
            "Epoch 80/100\n",
            "1152/1152 [==============================] - 11s 9ms/step - loss: 0.0018 - mean_absolute_error: 0.0320\n",
            "Epoch 81/100\n",
            "1152/1152 [==============================] - 11s 9ms/step - loss: 0.0017 - mean_absolute_error: 0.0303\n",
            "Epoch 82/100\n",
            "1152/1152 [==============================] - 11s 9ms/step - loss: 0.0018 - mean_absolute_error: 0.0317\n",
            "Epoch 83/100\n",
            "1152/1152 [==============================] - 11s 9ms/step - loss: 0.0017 - mean_absolute_error: 0.0308\n",
            "Epoch 84/100\n",
            "1152/1152 [==============================] - 11s 9ms/step - loss: 0.0017 - mean_absolute_error: 0.0308\n",
            "Epoch 85/100\n",
            "1152/1152 [==============================] - 11s 9ms/step - loss: 0.0016 - mean_absolute_error: 0.0288\n",
            "Epoch 86/100\n",
            "1152/1152 [==============================] - 11s 9ms/step - loss: 0.0016 - mean_absolute_error: 0.0298\n",
            "Epoch 87/100\n",
            "1152/1152 [==============================] - 11s 9ms/step - loss: 0.0016 - mean_absolute_error: 0.0307\n",
            "Epoch 88/100\n",
            "1152/1152 [==============================] - 11s 9ms/step - loss: 0.0017 - mean_absolute_error: 0.0310\n",
            "Epoch 89/100\n",
            "1152/1152 [==============================] - 11s 9ms/step - loss: 0.0016 - mean_absolute_error: 0.0303\n",
            "Epoch 90/100\n",
            "1152/1152 [==============================] - 11s 9ms/step - loss: 0.0016 - mean_absolute_error: 0.0294\n",
            "Epoch 91/100\n",
            "1152/1152 [==============================] - 11s 9ms/step - loss: 0.0016 - mean_absolute_error: 0.0293\n",
            "Epoch 92/100\n",
            "1152/1152 [==============================] - 11s 9ms/step - loss: 0.0016 - mean_absolute_error: 0.0296\n",
            "Epoch 93/100\n",
            "1152/1152 [==============================] - 11s 10ms/step - loss: 0.0016 - mean_absolute_error: 0.0299\n",
            "Epoch 94/100\n",
            "1152/1152 [==============================] - 11s 9ms/step - loss: 0.0015 - mean_absolute_error: 0.0293\n",
            "Epoch 95/100\n",
            "1152/1152 [==============================] - 11s 9ms/step - loss: 0.0016 - mean_absolute_error: 0.0299\n",
            "Epoch 96/100\n",
            "1152/1152 [==============================] - 11s 9ms/step - loss: 0.0016 - mean_absolute_error: 0.0290\n",
            "Epoch 97/100\n",
            "1152/1152 [==============================] - 11s 10ms/step - loss: 0.0015 - mean_absolute_error: 0.0290\n",
            "Epoch 98/100\n",
            "1152/1152 [==============================] - 11s 10ms/step - loss: 0.0016 - mean_absolute_error: 0.0296\n",
            "Epoch 99/100\n",
            "1152/1152 [==============================] - 11s 9ms/step - loss: 0.0014 - mean_absolute_error: 0.0283\n",
            "Epoch 100/100\n",
            "1152/1152 [==============================] - 11s 9ms/step - loss: 0.0016 - mean_absolute_error: 0.0293\n"
          ],
          "name": "stdout"
        },
        {
          "output_type": "execute_result",
          "data": {
            "text/plain": [
              "<keras.callbacks.History at 0x7fb1f1718c88>"
            ]
          },
          "metadata": {
            "tags": []
          },
          "execution_count": 39
        }
      ]
    },
    {
      "metadata": {
        "id": "C80RS-RiajBC",
        "colab_type": "code",
        "colab": {}
      },
      "cell_type": "code",
      "source": [
        "# Carrega arquivo de entrada https://drive.google.com/open?id=1e6r9K4BosH68LQKuAxRPlyzuOUKwuYPj\n",
        "file_entrada = drive.CreateFile({'id':'1e6r9K4BosH68LQKuAxRPlyzuOUKwuYPj'}) \n",
        "file_entrada.GetContentFile('petr4_teste.csv')  \n",
        "base_teste = pd.read_csv('petr4_teste.csv')"
      ],
      "execution_count": 0,
      "outputs": []
    },
    {
      "metadata": {
        "id": "bsHJWbPaa470",
        "colab_type": "code",
        "colab": {}
      },
      "cell_type": "code",
      "source": [
        "preco_real_teste = base_teste.iloc[:,1:2].values"
      ],
      "execution_count": 0,
      "outputs": []
    },
    {
      "metadata": {
        "id": "PbLolzBbbBJ6",
        "colab_type": "code",
        "colab": {}
      },
      "cell_type": "code",
      "source": [
        "base_completa = pd.concat((base['Open'], base_teste['Open']), axis = 0)"
      ],
      "execution_count": 0,
      "outputs": []
    },
    {
      "metadata": {
        "id": "2cXsy89VbgR5",
        "colab_type": "code",
        "colab": {}
      },
      "cell_type": "code",
      "source": [
        "entradas = base_completa[len(base_completa) - len(base_teste) - 90:].values"
      ],
      "execution_count": 0,
      "outputs": []
    },
    {
      "metadata": {
        "id": "Hrk4RZGNb1Al",
        "colab_type": "code",
        "colab": {}
      },
      "cell_type": "code",
      "source": [
        "entradas = entradas.reshape(-1,1)"
      ],
      "execution_count": 0,
      "outputs": []
    },
    {
      "metadata": {
        "id": "ckgohHjlb2RJ",
        "colab_type": "code",
        "colab": {}
      },
      "cell_type": "code",
      "source": [
        "entradas = normalizador.transform(entradas)"
      ],
      "execution_count": 0,
      "outputs": []
    },
    {
      "metadata": {
        "id": "FibTOabWc1AG",
        "colab_type": "code",
        "colab": {}
      },
      "cell_type": "code",
      "source": [
        "X_teste = []\n",
        "\n",
        "for i in range(90, 112):\n",
        "  X_teste.append(entradas[i-90:i, 0])"
      ],
      "execution_count": 0,
      "outputs": []
    },
    {
      "metadata": {
        "id": "QPuc0L3zdOF9",
        "colab_type": "code",
        "colab": {}
      },
      "cell_type": "code",
      "source": [
        "X_teste = np.array(X_teste)\n",
        "X_teste = np.reshape(X_teste, (X_teste.shape[0], X_teste.shape[1],1) )"
      ],
      "execution_count": 0,
      "outputs": []
    },
    {
      "metadata": {
        "id": "85G8wCPVdQqL",
        "colab_type": "code",
        "colab": {}
      },
      "cell_type": "code",
      "source": [
        "previsoes = regressor.predict(X_teste)"
      ],
      "execution_count": 0,
      "outputs": []
    },
    {
      "metadata": {
        "id": "fCtPq7fadmYy",
        "colab_type": "code",
        "colab": {}
      },
      "cell_type": "code",
      "source": [
        "previsoes = normalizador.inverse_transform(previsoes)"
      ],
      "execution_count": 0,
      "outputs": []
    },
    {
      "metadata": {
        "id": "oHCGaKvGduPD",
        "colab_type": "code",
        "outputId": "d9a49b3b-f141-407c-bb28-62e3484c04b7",
        "colab": {
          "base_uri": "https://localhost:8080/",
          "height": 34
        }
      },
      "cell_type": "code",
      "source": [
        "previsoes.mean()"
      ],
      "execution_count": 0,
      "outputs": [
        {
          "output_type": "execute_result",
          "data": {
            "text/plain": [
              "17.479992"
            ]
          },
          "metadata": {
            "tags": []
          },
          "execution_count": 54
        }
      ]
    },
    {
      "metadata": {
        "id": "zBpkioHxdu2U",
        "colab_type": "code",
        "outputId": "9d646c23-59e6-47ec-c225-47eeaef0c05f",
        "colab": {
          "base_uri": "https://localhost:8080/",
          "height": 34
        }
      },
      "cell_type": "code",
      "source": [
        "preco_real_teste.mean()"
      ],
      "execution_count": 0,
      "outputs": [
        {
          "output_type": "execute_result",
          "data": {
            "text/plain": [
              "17.87454563636364"
            ]
          },
          "metadata": {
            "tags": []
          },
          "execution_count": 55
        }
      ]
    },
    {
      "metadata": {
        "id": "DBqBHMaad-t1",
        "colab_type": "code",
        "outputId": "ee46cd01-16e9-4425-9c58-4f7f567e9f2b",
        "colab": {
          "base_uri": "https://localhost:8080/",
          "height": 34
        }
      },
      "cell_type": "code",
      "source": [
        "preco_real_teste.mean() - previsoes.mean()"
      ],
      "execution_count": 0,
      "outputs": [
        {
          "output_type": "execute_result",
          "data": {
            "text/plain": [
              "0.3945537235218417"
            ]
          },
          "metadata": {
            "tags": []
          },
          "execution_count": 56
        }
      ]
    },
    {
      "metadata": {
        "id": "vU26oxRQeEQm",
        "colab_type": "code",
        "outputId": "07c19015-06f5-406e-fb67-770ba967257c",
        "colab": {
          "base_uri": "https://localhost:8080/",
          "height": 376
        }
      },
      "cell_type": "code",
      "source": [
        "plt.plot(preco_real_teste, color = 'red', label = 'Preço Real')\n",
        "plt.plot(previsoes, color = 'blue', label = 'Previsões')\n",
        "plt.title('Previsões preço das ações')\n",
        "plt.xlabel('Tempo')\n",
        "plt.ylabel('Valor Yahoo')\n",
        "plt.legend()\n",
        "plt.show()"
      ],
      "execution_count": 0,
      "outputs": [
        {
          "output_type": "display_data",
          "data": {
            "image/png": "[encoded data removed]",
            "text/plain": [
              "<Figure size 576x396 with 1 Axes>"
            ]
          },
          "metadata": {
            "tags": []
          }
        }
      ]
    },
    {
      "metadata": {
        "id": "Zn49nIxJe8A2",
        "colab_type": "code",
        "colab": {}
      },
      "cell_type": "code",
      "source": [
        ""
      ],
      "execution_count": 0,
      "outputs": []
    }
  ]
}