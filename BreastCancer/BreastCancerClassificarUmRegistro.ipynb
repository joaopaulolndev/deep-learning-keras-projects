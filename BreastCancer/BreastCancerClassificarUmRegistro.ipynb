{
  "nbformat": 4,
  "nbformat_minor": 0,
  "metadata": {
    "colab": {
      "name": "BreastCancerClassificarUmRegistro",
      "version": "0.3.2",
      "provenance": [],
      "include_colab_link": true
    },
    "kernelspec": {
      "name": "python3",
      "display_name": "Python 3"
    }
  },
  "cells": [
    {
      "cell_type": "markdown",
      "metadata": {
        "id": "view-in-github",
        "colab_type": "text"
      },
      "source": [
        "<a href=\"https://colab.research.google.com/github/joaopaulolndev/deep-learning-keras-projects/blob/master/BreastCancer/BreastCancerClassificarUmRegistro.ipynb\" target=\"_parent\"><img src=\"https://colab.research.google.com/assets/colab-badge.svg\" alt=\"Open In Colab\"/></a>"
      ]
    },
    {
      "metadata": {
        "id": "4UOr2TBQ6mMe",
        "colab_type": "code",
        "colab": {}
      },
      "cell_type": "code",
      "source": [
        "# Code to read csv file into Colaboratory:\n",
        "!pip install -U -q PyDrive\n",
        "from pydrive.auth import GoogleAuth\n",
        "from pydrive.drive import GoogleDrive\n",
        "from google.colab import auth\n",
        "from oauth2client.client import GoogleCredentials\n",
        "# Authenticate and create the PyDrive client.\n",
        "auth.authenticate_user()\n",
        "gauth = GoogleAuth()\n",
        "gauth.credentials = GoogleCredentials.get_application_default()\n",
        "drive = GoogleDrive(gauth)"
      ],
      "execution_count": 0,
      "outputs": []
    },
    {
      "metadata": {
        "id": "rcX06Wxs684N",
        "colab_type": "code",
        "colab": {
          "base_uri": "https://localhost:8080/",
          "height": 34
        },
        "outputId": "c5304dca-79b0-4967-f712-459465d1c913"
      },
      "cell_type": "code",
      "source": [
        "import pandas as pd\n",
        "import numpy as np\n",
        "\n",
        "from keras.wrappers.scikit_learn import KerasClassifier\n",
        "from sklearn.model_selection import cross_val_score\n",
        "from sklearn.model_selection import GridSearchCV\n",
        "\n",
        "import keras\n",
        "from keras.models import Sequential\n",
        "from keras.layers import Dense, Dropout"
      ],
      "execution_count": 2,
      "outputs": [
        {
          "output_type": "stream",
          "text": [
            "Using TensorFlow backend.\n"
          ],
          "name": "stderr"
        }
      ]
    },
    {
      "metadata": {
        "id": "UnZJ-rry6_Of",
        "colab_type": "code",
        "colab": {}
      },
      "cell_type": "code",
      "source": [
        "# Carrega arquivo de entrada \n",
        "file_entrada = drive.CreateFile({'id':'19R0ZmAZus7yaRKZOF33dxzeJ5_-k5kQP'}) \n",
        "file_entrada.GetContentFile('entradas-breast.csv')  \n",
        "previsores = pd.read_csv('entradas-breast.csv')\n",
        "\n",
        "# Carrega arquivo de saida\n",
        "file_saida = drive.CreateFile({'id':'1wLRcfan4xKYyjRLrFo7ZdyfPIpwmxwrd'}) \n",
        "file_saida.GetContentFile('saidas-breast.csv')  \n",
        "classe = pd.read_csv('saidas-breast.csv')"
      ],
      "execution_count": 0,
      "outputs": []
    },
    {
      "metadata": {
        "id": "HmoukFwf7CJ-",
        "colab_type": "code",
        "colab": {
          "base_uri": "https://localhost:8080/",
          "height": 139
        },
        "outputId": "a90d40a7-84b6-4c65-903b-e9b23ed0b92a"
      },
      "cell_type": "code",
      "source": [
        "  classificador = Sequential()\n",
        "  classificador.add(Dense(units = 8, activation = 'relu', \n",
        "                        kernel_initializer = 'normal', input_dim = 30))\n",
        "  classificador.add(Dropout(0.2))\n",
        "  classificador.add(Dense(units = 8, activation = 'relu', \n",
        "                        kernel_initializer = 'normal'))\n",
        "  classificador.add(Dropout(0.2))\n",
        "  classificador.add(Dense(units = 1, activation = 'sigmoid'))\n",
        "  classificador.compile(optimizer = 'adam', loss = 'binary_crossentropy', metrics = ['binary_accuracy'])"
      ],
      "execution_count": 4,
      "outputs": [
        {
          "output_type": "stream",
          "text": [
            "WARNING:tensorflow:From /usr/local/lib/python3.6/dist-packages/tensorflow/python/framework/op_def_library.py:263: colocate_with (from tensorflow.python.framework.ops) is deprecated and will be removed in a future version.\n",
            "Instructions for updating:\n",
            "Colocations handled automatically by placer.\n",
            "WARNING:tensorflow:From /usr/local/lib/python3.6/dist-packages/keras/backend/tensorflow_backend.py:3445: calling dropout (from tensorflow.python.ops.nn_ops) with keep_prob is deprecated and will be removed in a future version.\n",
            "Instructions for updating:\n",
            "Please use `rate` instead of `keep_prob`. Rate should be set to `rate = 1 - keep_prob`.\n"
          ],
          "name": "stdout"
        }
      ]
    },
    {
      "metadata": {
        "id": "YgTbfMdY7xiG",
        "colab_type": "code",
        "outputId": "3f65becc-1a63-48bf-f17a-83fa03e97237",
        "colab": {
          "base_uri": "https://localhost:8080/",
          "height": 3505
        }
      },
      "cell_type": "code",
      "source": [
        "classificador.fit(previsores, classe, batch_size = 10, epochs=100)"
      ],
      "execution_count": 5,
      "outputs": [
        {
          "output_type": "stream",
          "text": [
            "WARNING:tensorflow:From /usr/local/lib/python3.6/dist-packages/tensorflow/python/ops/math_ops.py:3066: to_int32 (from tensorflow.python.ops.math_ops) is deprecated and will be removed in a future version.\n",
            "Instructions for updating:\n",
            "Use tf.cast instead.\n",
            "Epoch 1/100\n",
            "569/569 [==============================] - 0s 861us/step - loss: 5.4499 - binary_accuracy: 0.6204\n",
            "Epoch 2/100\n",
            "569/569 [==============================] - 0s 136us/step - loss: 2.3263 - binary_accuracy: 0.5677\n",
            "Epoch 3/100\n",
            "569/569 [==============================] - 0s 119us/step - loss: 0.6429 - binary_accuracy: 0.4974\n",
            "Epoch 4/100\n",
            "569/569 [==============================] - 0s 124us/step - loss: 0.6242 - binary_accuracy: 0.5466\n",
            "Epoch 5/100\n",
            "569/569 [==============================] - 0s 123us/step - loss: 0.6143 - binary_accuracy: 0.5641\n",
            "Epoch 6/100\n",
            "569/569 [==============================] - 0s 142us/step - loss: 0.6005 - binary_accuracy: 0.5782\n",
            "Epoch 7/100\n",
            "569/569 [==============================] - 0s 122us/step - loss: 0.5864 - binary_accuracy: 0.6344\n",
            "Epoch 8/100\n",
            "569/569 [==============================] - 0s 135us/step - loss: 0.5771 - binary_accuracy: 0.6397\n",
            "Epoch 9/100\n",
            "569/569 [==============================] - 0s 122us/step - loss: 0.5693 - binary_accuracy: 0.6573\n",
            "Epoch 10/100\n",
            "569/569 [==============================] - 0s 119us/step - loss: 0.5697 - binary_accuracy: 0.6626\n",
            "Epoch 11/100\n",
            "569/569 [==============================] - 0s 144us/step - loss: 0.5633 - binary_accuracy: 0.6643\n",
            "Epoch 12/100\n",
            "569/569 [==============================] - 0s 159us/step - loss: 0.5541 - binary_accuracy: 0.6784\n",
            "Epoch 13/100\n",
            "569/569 [==============================] - 0s 142us/step - loss: 0.5386 - binary_accuracy: 0.7206\n",
            "Epoch 14/100\n",
            "569/569 [==============================] - 0s 143us/step - loss: 0.5426 - binary_accuracy: 0.7188\n",
            "Epoch 15/100\n",
            "569/569 [==============================] - 0s 152us/step - loss: 0.5571 - binary_accuracy: 0.7276\n",
            "Epoch 16/100\n",
            "569/569 [==============================] - 0s 160us/step - loss: 0.5347 - binary_accuracy: 0.7258\n",
            "Epoch 17/100\n",
            "569/569 [==============================] - 0s 163us/step - loss: 0.5163 - binary_accuracy: 0.7522\n",
            "Epoch 18/100\n",
            "569/569 [==============================] - 0s 126us/step - loss: 0.4974 - binary_accuracy: 0.7663\n",
            "Epoch 19/100\n",
            "569/569 [==============================] - 0s 146us/step - loss: 0.5127 - binary_accuracy: 0.7645\n",
            "Epoch 20/100\n",
            "569/569 [==============================] - 0s 177us/step - loss: 0.4894 - binary_accuracy: 0.7733\n",
            "Epoch 21/100\n",
            "569/569 [==============================] - 0s 144us/step - loss: 0.4763 - binary_accuracy: 0.7663\n",
            "Epoch 22/100\n",
            "569/569 [==============================] - 0s 146us/step - loss: 0.5029 - binary_accuracy: 0.7698\n",
            "Epoch 23/100\n",
            "569/569 [==============================] - 0s 137us/step - loss: 0.4431 - binary_accuracy: 0.7961\n",
            "Epoch 24/100\n",
            "569/569 [==============================] - 0s 126us/step - loss: 0.4604 - binary_accuracy: 0.7645\n",
            "Epoch 25/100\n",
            "569/569 [==============================] - 0s 125us/step - loss: 0.4256 - binary_accuracy: 0.8137\n",
            "Epoch 26/100\n",
            "569/569 [==============================] - 0s 126us/step - loss: 0.4297 - binary_accuracy: 0.8014\n",
            "Epoch 27/100\n",
            "569/569 [==============================] - 0s 117us/step - loss: 0.4346 - binary_accuracy: 0.7926\n",
            "Epoch 28/100\n",
            "569/569 [==============================] - 0s 120us/step - loss: 0.4201 - binary_accuracy: 0.7909\n",
            "Epoch 29/100\n",
            "569/569 [==============================] - 0s 121us/step - loss: 0.4433 - binary_accuracy: 0.7838\n",
            "Epoch 30/100\n",
            "569/569 [==============================] - 0s 123us/step - loss: 0.4254 - binary_accuracy: 0.7979\n",
            "Epoch 31/100\n",
            "569/569 [==============================] - 0s 127us/step - loss: 0.4088 - binary_accuracy: 0.8172\n",
            "Epoch 32/100\n",
            "569/569 [==============================] - 0s 130us/step - loss: 0.4516 - binary_accuracy: 0.7909\n",
            "Epoch 33/100\n",
            "569/569 [==============================] - 0s 130us/step - loss: 0.4155 - binary_accuracy: 0.8014\n",
            "Epoch 34/100\n",
            "569/569 [==============================] - 0s 129us/step - loss: 0.4179 - binary_accuracy: 0.7944\n",
            "Epoch 35/100\n",
            "569/569 [==============================] - 0s 128us/step - loss: 0.4190 - binary_accuracy: 0.7961\n",
            "Epoch 36/100\n",
            "569/569 [==============================] - 0s 122us/step - loss: 0.4205 - binary_accuracy: 0.7996\n",
            "Epoch 37/100\n",
            "569/569 [==============================] - 0s 128us/step - loss: 0.4172 - binary_accuracy: 0.8049\n",
            "Epoch 38/100\n",
            "569/569 [==============================] - 0s 127us/step - loss: 0.3912 - binary_accuracy: 0.8084\n",
            "Epoch 39/100\n",
            "569/569 [==============================] - 0s 125us/step - loss: 0.4036 - binary_accuracy: 0.8137\n",
            "Epoch 40/100\n",
            "569/569 [==============================] - 0s 123us/step - loss: 0.3986 - binary_accuracy: 0.8102\n",
            "Epoch 41/100\n",
            "569/569 [==============================] - 0s 129us/step - loss: 0.4003 - binary_accuracy: 0.8137\n",
            "Epoch 42/100\n",
            "569/569 [==============================] - 0s 123us/step - loss: 0.3871 - binary_accuracy: 0.8295\n",
            "Epoch 43/100\n",
            "569/569 [==============================] - 0s 123us/step - loss: 0.4248 - binary_accuracy: 0.7856\n",
            "Epoch 44/100\n",
            "569/569 [==============================] - 0s 121us/step - loss: 0.4053 - binary_accuracy: 0.8137\n",
            "Epoch 45/100\n",
            "569/569 [==============================] - 0s 120us/step - loss: 0.4129 - binary_accuracy: 0.7996\n",
            "Epoch 46/100\n",
            "569/569 [==============================] - 0s 121us/step - loss: 0.3850 - binary_accuracy: 0.8172\n",
            "Epoch 47/100\n",
            "569/569 [==============================] - 0s 120us/step - loss: 0.3992 - binary_accuracy: 0.7996\n",
            "Epoch 48/100\n",
            "569/569 [==============================] - 0s 120us/step - loss: 0.4092 - binary_accuracy: 0.7979\n",
            "Epoch 49/100\n",
            "569/569 [==============================] - 0s 119us/step - loss: 0.3712 - binary_accuracy: 0.8330\n",
            "Epoch 50/100\n",
            "569/569 [==============================] - 0s 126us/step - loss: 0.3789 - binary_accuracy: 0.8102\n",
            "Epoch 51/100\n",
            "569/569 [==============================] - 0s 119us/step - loss: 0.4104 - binary_accuracy: 0.8049\n",
            "Epoch 52/100\n",
            "569/569 [==============================] - 0s 123us/step - loss: 0.3941 - binary_accuracy: 0.8172\n",
            "Epoch 53/100\n",
            "569/569 [==============================] - 0s 115us/step - loss: 0.3916 - binary_accuracy: 0.8102\n",
            "Epoch 54/100\n",
            "569/569 [==============================] - 0s 115us/step - loss: 0.3859 - binary_accuracy: 0.8084\n",
            "Epoch 55/100\n",
            "569/569 [==============================] - 0s 120us/step - loss: 0.3781 - binary_accuracy: 0.8225\n",
            "Epoch 56/100\n",
            "569/569 [==============================] - 0s 112us/step - loss: 0.4010 - binary_accuracy: 0.7926\n",
            "Epoch 57/100\n",
            "569/569 [==============================] - 0s 127us/step - loss: 0.4181 - binary_accuracy: 0.8102\n",
            "Epoch 58/100\n",
            "569/569 [==============================] - 0s 143us/step - loss: 0.3788 - binary_accuracy: 0.8243\n",
            "Epoch 59/100\n",
            "569/569 [==============================] - 0s 117us/step - loss: 0.3661 - binary_accuracy: 0.8243\n",
            "Epoch 60/100\n",
            "569/569 [==============================] - 0s 115us/step - loss: 0.4014 - binary_accuracy: 0.7873\n",
            "Epoch 61/100\n",
            "569/569 [==============================] - 0s 121us/step - loss: 0.3993 - binary_accuracy: 0.8067\n",
            "Epoch 62/100\n",
            "569/569 [==============================] - 0s 122us/step - loss: 0.3609 - binary_accuracy: 0.8313\n",
            "Epoch 63/100\n",
            "569/569 [==============================] - 0s 131us/step - loss: 0.3711 - binary_accuracy: 0.8260\n",
            "Epoch 64/100\n",
            "569/569 [==============================] - 0s 126us/step - loss: 0.4153 - binary_accuracy: 0.7926\n",
            "Epoch 65/100\n",
            "569/569 [==============================] - 0s 119us/step - loss: 0.3578 - binary_accuracy: 0.8330\n",
            "Epoch 66/100\n",
            "569/569 [==============================] - 0s 118us/step - loss: 0.4007 - binary_accuracy: 0.7926\n",
            "Epoch 67/100\n",
            "569/569 [==============================] - 0s 129us/step - loss: 0.3827 - binary_accuracy: 0.8190\n",
            "Epoch 68/100\n",
            "569/569 [==============================] - 0s 124us/step - loss: 0.3984 - binary_accuracy: 0.7891\n",
            "Epoch 69/100\n",
            "569/569 [==============================] - 0s 122us/step - loss: 0.3634 - binary_accuracy: 0.8260\n",
            "Epoch 70/100\n",
            "569/569 [==============================] - 0s 135us/step - loss: 0.3734 - binary_accuracy: 0.8225\n",
            "Epoch 71/100\n",
            "569/569 [==============================] - 0s 122us/step - loss: 0.3639 - binary_accuracy: 0.8207\n",
            "Epoch 72/100\n",
            "569/569 [==============================] - 0s 118us/step - loss: 0.3809 - binary_accuracy: 0.7926\n",
            "Epoch 73/100\n",
            "569/569 [==============================] - 0s 117us/step - loss: 0.3720 - binary_accuracy: 0.8155\n",
            "Epoch 74/100\n",
            "569/569 [==============================] - 0s 121us/step - loss: 0.3834 - binary_accuracy: 0.8049\n",
            "Epoch 75/100\n",
            "569/569 [==============================] - 0s 121us/step - loss: 0.3817 - binary_accuracy: 0.8190\n",
            "Epoch 76/100\n",
            "569/569 [==============================] - 0s 125us/step - loss: 0.3621 - binary_accuracy: 0.8313\n",
            "Epoch 77/100\n",
            "569/569 [==============================] - 0s 122us/step - loss: 0.3911 - binary_accuracy: 0.8032\n",
            "Epoch 78/100\n",
            "569/569 [==============================] - 0s 124us/step - loss: 0.3931 - binary_accuracy: 0.8049\n",
            "Epoch 79/100\n",
            "569/569 [==============================] - 0s 129us/step - loss: 0.3491 - binary_accuracy: 0.8313\n",
            "Epoch 80/100\n",
            "569/569 [==============================] - 0s 122us/step - loss: 0.3936 - binary_accuracy: 0.7926\n",
            "Epoch 81/100\n",
            "569/569 [==============================] - 0s 121us/step - loss: 0.3742 - binary_accuracy: 0.8067\n",
            "Epoch 82/100\n",
            "569/569 [==============================] - 0s 120us/step - loss: 0.3800 - binary_accuracy: 0.8084\n",
            "Epoch 83/100\n",
            "569/569 [==============================] - 0s 115us/step - loss: 0.3941 - binary_accuracy: 0.8049\n",
            "Epoch 84/100\n",
            "569/569 [==============================] - 0s 118us/step - loss: 0.3801 - binary_accuracy: 0.8260\n",
            "Epoch 85/100\n",
            "569/569 [==============================] - 0s 120us/step - loss: 0.3469 - binary_accuracy: 0.8260\n",
            "Epoch 86/100\n",
            "569/569 [==============================] - 0s 114us/step - loss: 0.3570 - binary_accuracy: 0.8155\n",
            "Epoch 87/100\n",
            "569/569 [==============================] - 0s 122us/step - loss: 0.3650 - binary_accuracy: 0.8190\n",
            "Epoch 88/100\n",
            "569/569 [==============================] - 0s 113us/step - loss: 0.3698 - binary_accuracy: 0.8137\n",
            "Epoch 89/100\n",
            "569/569 [==============================] - 0s 119us/step - loss: 0.3661 - binary_accuracy: 0.8260\n",
            "Epoch 90/100\n",
            "569/569 [==============================] - 0s 119us/step - loss: 0.3713 - binary_accuracy: 0.8278\n",
            "Epoch 91/100\n",
            "569/569 [==============================] - 0s 119us/step - loss: 0.3838 - binary_accuracy: 0.8014\n",
            "Epoch 92/100\n",
            "569/569 [==============================] - 0s 115us/step - loss: 0.3628 - binary_accuracy: 0.8172\n",
            "Epoch 93/100\n",
            "569/569 [==============================] - 0s 121us/step - loss: 0.3601 - binary_accuracy: 0.8260\n",
            "Epoch 94/100\n",
            "569/569 [==============================] - 0s 125us/step - loss: 0.3669 - binary_accuracy: 0.8084\n",
            "Epoch 95/100\n",
            "569/569 [==============================] - 0s 121us/step - loss: 0.3756 - binary_accuracy: 0.8120\n",
            "Epoch 96/100\n",
            "569/569 [==============================] - 0s 116us/step - loss: 0.3595 - binary_accuracy: 0.8278\n",
            "Epoch 97/100\n",
            "569/569 [==============================] - 0s 116us/step - loss: 0.3645 - binary_accuracy: 0.8190\n",
            "Epoch 98/100\n",
            "569/569 [==============================] - 0s 128us/step - loss: 0.3602 - binary_accuracy: 0.8137\n",
            "Epoch 99/100\n",
            "569/569 [==============================] - 0s 123us/step - loss: 0.3807 - binary_accuracy: 0.8084\n",
            "Epoch 100/100\n",
            "569/569 [==============================] - 0s 129us/step - loss: 0.3581 - binary_accuracy: 0.8243\n"
          ],
          "name": "stdout"
        },
        {
          "output_type": "execute_result",
          "data": {
            "text/plain": [
              "<keras.callbacks.History at 0x7fc815008278>"
            ]
          },
          "metadata": {
            "tags": []
          },
          "execution_count": 5
        }
      ]
    },
    {
      "metadata": {
        "id": "bgBxaNEo7-xD",
        "colab_type": "code",
        "colab": {}
      },
      "cell_type": "code",
      "source": [
        "novo = np.array([[15.80, 8.34, 118, 900, 0.10, 0.26, 0.08, 0.134, 0.178, 0.20, 0.05, 1098, 0.87,\n",
        "                  4500, 145.2, 0.005, 0.04, 0.05, 0.015, 0.03, 0.007, 23.15, 16.64, 178.5, 2018, 0.14, 0.185, 0.85, 158, 0.363]])"
      ],
      "execution_count": 0,
      "outputs": []
    },
    {
      "metadata": {
        "id": "NOiBLMHZ9e6x",
        "colab_type": "code",
        "colab": {}
      },
      "cell_type": "code",
      "source": [
        "previsao = classificador.predict(novo)"
      ],
      "execution_count": 0,
      "outputs": []
    },
    {
      "metadata": {
        "id": "KfDrdwPQ9jv3",
        "colab_type": "code",
        "colab": {}
      },
      "cell_type": "code",
      "source": [
        "previsao = (previsao > 0.5)"
      ],
      "execution_count": 0,
      "outputs": []
    },
    {
      "metadata": {
        "id": "wyjqiIN19ywa",
        "colab_type": "code",
        "outputId": "09aa15e2-3490-4dd4-c39d-14f62b644fc3",
        "colab": {
          "base_uri": "https://localhost:8080/",
          "height": 34
        }
      },
      "cell_type": "code",
      "source": [
        "previsao"
      ],
      "execution_count": 9,
      "outputs": [
        {
          "output_type": "execute_result",
          "data": {
            "text/plain": [
              "array([[ True]])"
            ]
          },
          "metadata": {
            "tags": []
          },
          "execution_count": 9
        }
      ]
    },
    {
      "metadata": {
        "id": "2rwuqXjK-SNn",
        "colab_type": "code",
        "colab": {}
      },
      "cell_type": "code",
      "source": [
        ""
      ],
      "execution_count": 0,
      "outputs": []
    }
  ]
}