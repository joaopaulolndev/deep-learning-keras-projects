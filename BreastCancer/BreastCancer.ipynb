{
  "nbformat": 4,
  "nbformat_minor": 0,
  "metadata": {
    "colab": {
      "name": "BreastCancer.ipynb",
      "version": "0.3.2",
      "provenance": [],
      "collapsed_sections": [],
      "include_colab_link": true
    },
    "kernelspec": {
      "name": "python3",
      "display_name": "Python 3"
    }
  },
  "cells": [
    {
      "cell_type": "markdown",
      "metadata": {
        "id": "view-in-github",
        "colab_type": "text"
      },
      "source": [
        "<a href=\"https://colab.research.google.com/github/joaopaulolndev/deep-learning-keras-projects/blob/master/BreastCancer/BreastCancer.ipynb\" target=\"_parent\"><img src=\"https://colab.research.google.com/assets/colab-badge.svg\" alt=\"Open In Colab\"/></a>"
      ]
    },
    {
      "metadata": {
        "id": "xF4eZVgIgMvn",
        "colab_type": "code",
        "colab": {
          "base_uri": "https://localhost:8080/",
          "height": 51
        },
        "outputId": "53123c45-29b7-47de-c7d7-fb03e9849b1e"
      },
      "cell_type": "code",
      "source": [
        "# Code to read csv file into Colaboratory:\n",
        "!pip install -U -q PyDrive\n",
        "from pydrive.auth import GoogleAuth\n",
        "from pydrive.drive import GoogleDrive\n",
        "from google.colab import auth\n",
        "from oauth2client.client import GoogleCredentials\n",
        "# Authenticate and create the PyDrive client.\n",
        "auth.authenticate_user()\n",
        "gauth = GoogleAuth()\n",
        "gauth.credentials = GoogleCredentials.get_application_default()\n",
        "drive = GoogleDrive(gauth)"
      ],
      "execution_count": 1,
      "outputs": [
        {
          "output_type": "stream",
          "text": [
            "\u001b[?25l\r\u001b[K    1% |▎                               | 10kB 19.5MB/s eta 0:00:01\r\u001b[K    2% |▋                               | 20kB 1.8MB/s eta 0:00:01\r\u001b[K    3% |█                               | 30kB 2.7MB/s eta 0:00:01\r\u001b[K    4% |█▎                              | 40kB 1.8MB/s eta 0:00:01\r\u001b[K    5% |█▋                              | 51kB 2.2MB/s eta 0:00:01\r\u001b[K    6% |██                              | 61kB 2.6MB/s eta 0:00:01\r\u001b[K    7% |██▎                             | 71kB 3.0MB/s eta 0:00:01\r\u001b[K    8% |██▋                             | 81kB 3.4MB/s eta 0:00:01\r\u001b[K    9% |███                             | 92kB 3.8MB/s eta 0:00:01\r\u001b[K    10% |███▎                            | 102kB 2.9MB/s eta 0:00:01\r\u001b[K    11% |███▋                            | 112kB 2.9MB/s eta 0:00:01\r\u001b[K    12% |████                            | 122kB 4.1MB/s eta 0:00:01\r\u001b[K    13% |████▎                           | 133kB 4.1MB/s eta 0:00:01\r\u001b[K    14% |████▋                           | 143kB 7.7MB/s eta 0:00:01\r\u001b[K    15% |█████                           | 153kB 7.8MB/s eta 0:00:01\r\u001b[K    16% |█████▎                          | 163kB 7.8MB/s eta 0:00:01\r\u001b[K    17% |█████▋                          | 174kB 7.7MB/s eta 0:00:01\r\u001b[K    18% |██████                          | 184kB 7.7MB/s eta 0:00:01\r\u001b[K    19% |██████▎                         | 194kB 7.7MB/s eta 0:00:01\r\u001b[K    20% |██████▋                         | 204kB 8.3MB/s eta 0:00:01\r\u001b[K    21% |███████                         | 215kB 8.3MB/s eta 0:00:01\r\u001b[K    22% |███████▎                        | 225kB 8.5MB/s eta 0:00:01\r\u001b[K    23% |███████▋                        | 235kB 8.5MB/s eta 0:00:01\r\u001b[K    24% |████████                        | 245kB 8.5MB/s eta 0:00:01\r\u001b[K    25% |████████▎                       | 256kB 8.5MB/s eta 0:00:01\r\u001b[K    26% |████████▋                       | 266kB 8.3MB/s eta 0:00:01\r\u001b[K    27% |█████████                       | 276kB 8.5MB/s eta 0:00:01\r\u001b[K    29% |█████████▎                      | 286kB 8.5MB/s eta 0:00:01\r\u001b[K    30% |█████████▋                      | 296kB 8.5MB/s eta 0:00:01\r\u001b[K    31% |██████████                      | 307kB 46.8MB/s eta 0:00:01\r\u001b[K    32% |██████████▎                     | 317kB 51.3MB/s eta 0:00:01\r\u001b[K    33% |██████████▋                     | 327kB 51.1MB/s eta 0:00:01\r\u001b[K    34% |███████████                     | 337kB 51.7MB/s eta 0:00:01\r\u001b[K    35% |███████████▎                    | 348kB 45.9MB/s eta 0:00:01\r\u001b[K    36% |███████████▋                    | 358kB 45.9MB/s eta 0:00:01\r\u001b[K    37% |████████████                    | 368kB 54.3MB/s eta 0:00:01\r\u001b[K    38% |████████████▎                   | 378kB 54.8MB/s eta 0:00:01\r\u001b[K    39% |████████████▋                   | 389kB 55.1MB/s eta 0:00:01\r\u001b[K    40% |█████████████                   | 399kB 10.3MB/s eta 0:00:01\r\u001b[K    41% |█████████████▎                  | 409kB 10.1MB/s eta 0:00:01\r\u001b[K    42% |█████████████▋                  | 419kB 10.1MB/s eta 0:00:01\r\u001b[K    43% |██████████████                  | 430kB 10.0MB/s eta 0:00:01\r\u001b[K    44% |██████████████▎                 | 440kB 10.0MB/s eta 0:00:01\r\u001b[K    45% |██████████████▋                 | 450kB 10.0MB/s eta 0:00:01\r\u001b[K    46% |███████████████                 | 460kB 10.0MB/s eta 0:00:01\r\u001b[K    47% |███████████████▎                | 471kB 10.1MB/s eta 0:00:01\r\u001b[K    48% |███████████████▋                | 481kB 10.1MB/s eta 0:00:01\r\u001b[K    49% |████████████████                | 491kB 10.1MB/s eta 0:00:01\r\u001b[K    50% |████████████████▎               | 501kB 49.6MB/s eta 0:00:01\r\u001b[K    51% |████████████████▋               | 512kB 49.5MB/s eta 0:00:01\r\u001b[K    52% |█████████████████               | 522kB 49.0MB/s eta 0:00:01\r\u001b[K    53% |█████████████████▎              | 532kB 50.6MB/s eta 0:00:01\r\u001b[K    54% |█████████████████▋              | 542kB 51.3MB/s eta 0:00:01\r\u001b[K    55% |██████████████████              | 552kB 58.9MB/s eta 0:00:01\r\u001b[K    57% |██████████████████▎             | 563kB 59.4MB/s eta 0:00:01\r\u001b[K    58% |██████████████████▋             | 573kB 57.6MB/s eta 0:00:01\r\u001b[K    59% |███████████████████             | 583kB 57.9MB/s eta 0:00:01\r\u001b[K    60% |███████████████████▎            | 593kB 56.6MB/s eta 0:00:01\r\u001b[K    61% |███████████████████▋            | 604kB 56.5MB/s eta 0:00:01\r\u001b[K    62% |████████████████████            | 614kB 63.5MB/s eta 0:00:01\r\u001b[K    63% |████████████████████▎           | 624kB 63.4MB/s eta 0:00:01\r\u001b[K    64% |████████████████████▋           | 634kB 62.6MB/s eta 0:00:01\r\u001b[K    65% |█████████████████████           | 645kB 11.2MB/s eta 0:00:01\r\u001b[K    66% |█████████████████████▎          | 655kB 10.9MB/s eta 0:00:01\r\u001b[K    67% |█████████████████████▋          | 665kB 10.2MB/s eta 0:00:01\r\u001b[K    68% |██████████████████████          | 675kB 10.2MB/s eta 0:00:01\r\u001b[K    69% |██████████████████████▎         | 686kB 10.2MB/s eta 0:00:01\r\u001b[K    70% |██████████████████████▋         | 696kB 10.2MB/s eta 0:00:01\r\u001b[K    71% |███████████████████████         | 706kB 10.1MB/s eta 0:00:01\r\u001b[K    72% |███████████████████████▎        | 716kB 10.1MB/s eta 0:00:01\r\u001b[K    73% |███████████████████████▋        | 727kB 10.1MB/s eta 0:00:01\r\u001b[K    74% |████████████████████████        | 737kB 10.1MB/s eta 0:00:01\r\u001b[K    75% |████████████████████████▎       | 747kB 38.7MB/s eta 0:00:01\r\u001b[K    76% |████████████████████████▋       | 757kB 42.5MB/s eta 0:00:01\r\u001b[K    77% |████████████████████████▉       | 768kB 57.7MB/s eta 0:00:01\r\u001b[K    78% |█████████████████████████▏      | 778kB 59.6MB/s eta 0:00:01\r\u001b[K    79% |█████████████████████████▌      | 788kB 58.5MB/s eta 0:00:01\r\u001b[K    80% |█████████████████████████▉      | 798kB 60.4MB/s eta 0:00:01\r\u001b[K    81% |██████████████████████████▏     | 808kB 60.6MB/s eta 0:00:01\r\u001b[K    82% |██████████████████████████▌     | 819kB 60.0MB/s eta 0:00:01\r\u001b[K    83% |██████████████████████████▉     | 829kB 61.5MB/s eta 0:00:01\r\u001b[K    85% |███████████████████████████▏    | 839kB 63.1MB/s eta 0:00:01\r\u001b[K    86% |███████████████████████████▌    | 849kB 62.5MB/s eta 0:00:01\r\u001b[K    87% |███████████████████████████▉    | 860kB 52.1MB/s eta 0:00:01\r\u001b[K    88% |████████████████████████████▏   | 870kB 51.5MB/s eta 0:00:01\r\u001b[K    89% |████████████████████████████▌   | 880kB 52.7MB/s eta 0:00:01\r\u001b[K    90% |████████████████████████████▉   | 890kB 53.8MB/s eta 0:00:01\r\u001b[K    91% |█████████████████████████████▏  | 901kB 53.1MB/s eta 0:00:01\r\u001b[K    92% |█████████████████████████████▌  | 911kB 53.8MB/s eta 0:00:01\r\u001b[K    93% |█████████████████████████████▉  | 921kB 54.2MB/s eta 0:00:01\r\u001b[K    94% |██████████████████████████████▏ | 931kB 54.3MB/s eta 0:00:01\r\u001b[K    95% |██████████████████████████████▌ | 942kB 53.9MB/s eta 0:00:01\r\u001b[K    96% |██████████████████████████████▉ | 952kB 54.4MB/s eta 0:00:01\r\u001b[K    97% |███████████████████████████████▏| 962kB 66.3MB/s eta 0:00:01\r\u001b[K    98% |███████████████████████████████▌| 972kB 66.7MB/s eta 0:00:01\r\u001b[K    99% |███████████████████████████████▉| 983kB 64.8MB/s eta 0:00:01\r\u001b[K    100% |████████████████████████████████| 993kB 20.5MB/s \n",
            "\u001b[?25h  Building wheel for PyDrive (setup.py) ... \u001b[?25ldone\n",
            "\u001b[?25h"
          ],
          "name": "stdout"
        }
      ]
    },
    {
      "metadata": {
        "id": "WqpL0aYzgO5q",
        "colab_type": "code",
        "colab": {}
      },
      "cell_type": "code",
      "source": [
        "import pandas as pd\n",
        "import numpy as np"
      ],
      "execution_count": 0,
      "outputs": []
    },
    {
      "metadata": {
        "id": "8pfYZfP0pFvv",
        "colab_type": "code",
        "colab": {}
      },
      "cell_type": "code",
      "source": [
        "# Carrega arquivo de entrada \n",
        "file_entrada = drive.CreateFile({'id':'19R0ZmAZus7yaRKZOF33dxzeJ5_-k5kQP'}) \n",
        "file_entrada.GetContentFile('entradas-breast.csv')  \n",
        "previsores = pd.read_csv('entradas-breast.csv')\n",
        "\n",
        "# Carrega arquivo de saida\n",
        "file_saida = drive.CreateFile({'id':'1wLRcfan4xKYyjRLrFo7ZdyfPIpwmxwrd'}) \n",
        "file_saida.GetContentFile('saidas-breast.csv')  \n",
        "classe = pd.read_csv('saidas-breast.csv')\n",
        "\n"
      ],
      "execution_count": 0,
      "outputs": []
    },
    {
      "metadata": {
        "id": "UCLRzWdMK36w",
        "colab_type": "code",
        "colab": {}
      },
      "cell_type": "code",
      "source": [
        "from sklearn.model_selection import train_test_split"
      ],
      "execution_count": 0,
      "outputs": []
    },
    {
      "metadata": {
        "id": "0JB8GTUIYY2j",
        "colab_type": "code",
        "colab": {}
      },
      "cell_type": "code",
      "source": [
        "previsores_treinamento, previsores_teste, classe_treinamento, classe_teste = train_test_split(previsores, classe, test_size=0.25)"
      ],
      "execution_count": 0,
      "outputs": []
    },
    {
      "metadata": {
        "id": "Uf-uYrxCpTHf",
        "colab_type": "code",
        "colab": {
          "base_uri": "https://localhost:8080/",
          "height": 34
        },
        "outputId": "db29f08c-5d7c-49b2-bcdd-59e5fc2d24a8"
      },
      "cell_type": "code",
      "source": [
        "import keras\n",
        "from keras.models import Sequential\n",
        "from keras.layers import Dense"
      ],
      "execution_count": 6,
      "outputs": [
        {
          "output_type": "stream",
          "text": [
            "Using TensorFlow backend.\n"
          ],
          "name": "stderr"
        }
      ]
    },
    {
      "metadata": {
        "id": "68bmGTq9pi2j",
        "colab_type": "code",
        "colab": {}
      },
      "cell_type": "code",
      "source": [
        "classificador = Sequential()"
      ],
      "execution_count": 0,
      "outputs": []
    },
    {
      "metadata": {
        "id": "H4WsIo9hpghr",
        "colab_type": "code",
        "colab": {
          "base_uri": "https://localhost:8080/",
          "height": 88
        },
        "outputId": "38ac8a51-7209-4aaa-b5c1-a55b39b1ea85"
      },
      "cell_type": "code",
      "source": [
        "classificador.add(Dense(units = 16, activation = 'relu', \n",
        "                        kernel_initializer = 'random_uniform', input_dim = 30))\n"
      ],
      "execution_count": 8,
      "outputs": [
        {
          "output_type": "stream",
          "text": [
            "WARNING:tensorflow:From /usr/local/lib/python3.6/dist-packages/tensorflow/python/framework/op_def_library.py:263: colocate_with (from tensorflow.python.framework.ops) is deprecated and will be removed in a future version.\n",
            "Instructions for updating:\n",
            "Colocations handled automatically by placer.\n"
          ],
          "name": "stdout"
        }
      ]
    },
    {
      "metadata": {
        "id": "N6DeZ8xO1aD2",
        "colab_type": "code",
        "colab": {}
      },
      "cell_type": "code",
      "source": [
        "classificador.add(Dense(units = 16, activation = 'relu', \n",
        "                        kernel_initializer = 'random_uniform'))\n"
      ],
      "execution_count": 0,
      "outputs": []
    },
    {
      "metadata": {
        "id": "QQ5FiP0wphIf",
        "colab_type": "code",
        "colab": {}
      },
      "cell_type": "code",
      "source": [
        "classificador.add(Dense(units = 1, activation = 'sigmoid'))"
      ],
      "execution_count": 0,
      "outputs": []
    },
    {
      "metadata": {
        "id": "7hketFkN2EU3",
        "colab_type": "code",
        "colab": {}
      },
      "cell_type": "code",
      "source": [
        "otimizador = keras.optimizers.Adam( lr=0.001, decay = 0.0001, clipvalue= 0.5)"
      ],
      "execution_count": 0,
      "outputs": []
    },
    {
      "metadata": {
        "id": "N7UXVG-_05A1",
        "colab_type": "code",
        "colab": {}
      },
      "cell_type": "code",
      "source": [
        "classificador.compile(optimizer = otimizador, loss = 'binary_crossentropy', metrics = ['binary_accuracy'])\n",
        "#classificador.compile(optimizer = 'adam', loss = 'binary_crossentropy', metrics = ['binary_accuracy'])"
      ],
      "execution_count": 0,
      "outputs": []
    },
    {
      "metadata": {
        "id": "vwvFFiH7K1KQ",
        "colab_type": "code",
        "outputId": "2924929f-0ad9-4f61-ea3c-16f7b6a434fe",
        "colab": {
          "base_uri": "https://localhost:8080/",
          "height": 3505
        }
      },
      "cell_type": "code",
      "source": [
        "classificador.fit( previsores_treinamento, classe_treinamento, batch_size = 10, epochs = 100)"
      ],
      "execution_count": 13,
      "outputs": [
        {
          "output_type": "stream",
          "text": [
            "WARNING:tensorflow:From /usr/local/lib/python3.6/dist-packages/tensorflow/python/ops/math_ops.py:3066: to_int32 (from tensorflow.python.ops.math_ops) is deprecated and will be removed in a future version.\n",
            "Instructions for updating:\n",
            "Use tf.cast instead.\n",
            "Epoch 1/100\n",
            "426/426 [==============================] - 1s 2ms/step - loss: 1.8100 - binary_accuracy: 0.5775\n",
            "Epoch 2/100\n",
            "426/426 [==============================] - 0s 157us/step - loss: 0.8982 - binary_accuracy: 0.7113\n",
            "Epoch 3/100\n",
            "426/426 [==============================] - 0s 149us/step - loss: 0.8148 - binary_accuracy: 0.7324\n",
            "Epoch 4/100\n",
            "426/426 [==============================] - 0s 124us/step - loss: 0.7571 - binary_accuracy: 0.7770\n",
            "Epoch 5/100\n",
            "426/426 [==============================] - 0s 133us/step - loss: 0.8478 - binary_accuracy: 0.7371\n",
            "Epoch 6/100\n",
            "426/426 [==============================] - 0s 141us/step - loss: 0.7535 - binary_accuracy: 0.7934\n",
            "Epoch 7/100\n",
            "426/426 [==============================] - 0s 136us/step - loss: 0.8361 - binary_accuracy: 0.7840\n",
            "Epoch 8/100\n",
            "426/426 [==============================] - 0s 124us/step - loss: 0.6974 - binary_accuracy: 0.8357\n",
            "Epoch 9/100\n",
            "426/426 [==============================] - 0s 120us/step - loss: 0.7491 - binary_accuracy: 0.8239\n",
            "Epoch 10/100\n",
            "426/426 [==============================] - 0s 121us/step - loss: 0.7379 - binary_accuracy: 0.8333\n",
            "Epoch 11/100\n",
            "426/426 [==============================] - 0s 140us/step - loss: 0.7587 - binary_accuracy: 0.8286\n",
            "Epoch 12/100\n",
            "426/426 [==============================] - 0s 117us/step - loss: 0.8256 - binary_accuracy: 0.8216\n",
            "Epoch 13/100\n",
            "426/426 [==============================] - 0s 120us/step - loss: 0.7229 - binary_accuracy: 0.8357\n",
            "Epoch 14/100\n",
            "426/426 [==============================] - 0s 159us/step - loss: 1.0142 - binary_accuracy: 0.8005\n",
            "Epoch 15/100\n",
            "426/426 [==============================] - 0s 122us/step - loss: 0.7560 - binary_accuracy: 0.8474\n",
            "Epoch 16/100\n",
            "426/426 [==============================] - 0s 127us/step - loss: 0.8680 - binary_accuracy: 0.8122\n",
            "Epoch 17/100\n",
            "426/426 [==============================] - 0s 118us/step - loss: 0.9525 - binary_accuracy: 0.8146\n",
            "Epoch 18/100\n",
            "426/426 [==============================] - 0s 132us/step - loss: 1.1478 - binary_accuracy: 0.7676\n",
            "Epoch 19/100\n",
            "426/426 [==============================] - 0s 114us/step - loss: 0.7467 - binary_accuracy: 0.8357\n",
            "Epoch 20/100\n",
            "426/426 [==============================] - 0s 128us/step - loss: 0.6493 - binary_accuracy: 0.8521\n",
            "Epoch 21/100\n",
            "426/426 [==============================] - 0s 112us/step - loss: 0.7838 - binary_accuracy: 0.8380\n",
            "Epoch 22/100\n",
            "426/426 [==============================] - 0s 120us/step - loss: 0.8951 - binary_accuracy: 0.8216\n",
            "Epoch 23/100\n",
            "426/426 [==============================] - 0s 163us/step - loss: 0.8203 - binary_accuracy: 0.8122\n",
            "Epoch 24/100\n",
            "426/426 [==============================] - 0s 109us/step - loss: 0.6443 - binary_accuracy: 0.8638\n",
            "Epoch 25/100\n",
            "426/426 [==============================] - 0s 119us/step - loss: 0.6547 - binary_accuracy: 0.8568\n",
            "Epoch 26/100\n",
            "426/426 [==============================] - 0s 123us/step - loss: 0.7034 - binary_accuracy: 0.8662\n",
            "Epoch 27/100\n",
            "426/426 [==============================] - 0s 120us/step - loss: 0.6941 - binary_accuracy: 0.8568\n",
            "Epoch 28/100\n",
            "426/426 [==============================] - 0s 122us/step - loss: 0.6973 - binary_accuracy: 0.8451\n",
            "Epoch 29/100\n",
            "426/426 [==============================] - 0s 130us/step - loss: 0.8035 - binary_accuracy: 0.8333\n",
            "Epoch 30/100\n",
            "426/426 [==============================] - 0s 119us/step - loss: 0.6625 - binary_accuracy: 0.8662\n",
            "Epoch 31/100\n",
            "426/426 [==============================] - 0s 122us/step - loss: 0.9328 - binary_accuracy: 0.8192\n",
            "Epoch 32/100\n",
            "426/426 [==============================] - 0s 123us/step - loss: 0.7883 - binary_accuracy: 0.8545\n",
            "Epoch 33/100\n",
            "426/426 [==============================] - 0s 121us/step - loss: 1.1460 - binary_accuracy: 0.8239\n",
            "Epoch 34/100\n",
            "426/426 [==============================] - 0s 114us/step - loss: 0.8916 - binary_accuracy: 0.8451\n",
            "Epoch 35/100\n",
            "426/426 [==============================] - 0s 112us/step - loss: 0.9110 - binary_accuracy: 0.8427\n",
            "Epoch 36/100\n",
            "426/426 [==============================] - 0s 119us/step - loss: 0.7816 - binary_accuracy: 0.8732\n",
            "Epoch 37/100\n",
            "426/426 [==============================] - 0s 113us/step - loss: 0.8873 - binary_accuracy: 0.8474\n",
            "Epoch 38/100\n",
            "426/426 [==============================] - 0s 116us/step - loss: 0.9665 - binary_accuracy: 0.8146\n",
            "Epoch 39/100\n",
            "426/426 [==============================] - 0s 116us/step - loss: 0.8283 - binary_accuracy: 0.8662\n",
            "Epoch 40/100\n",
            "426/426 [==============================] - 0s 118us/step - loss: 0.8396 - binary_accuracy: 0.8709\n",
            "Epoch 41/100\n",
            "426/426 [==============================] - 0s 119us/step - loss: 0.8486 - binary_accuracy: 0.8592\n",
            "Epoch 42/100\n",
            "426/426 [==============================] - 0s 117us/step - loss: 0.7986 - binary_accuracy: 0.8732\n",
            "Epoch 43/100\n",
            "426/426 [==============================] - 0s 133us/step - loss: 0.9146 - binary_accuracy: 0.8451\n",
            "Epoch 44/100\n",
            "426/426 [==============================] - 0s 124us/step - loss: 0.8594 - binary_accuracy: 0.8662\n",
            "Epoch 45/100\n",
            "426/426 [==============================] - 0s 114us/step - loss: 1.0030 - binary_accuracy: 0.8216\n",
            "Epoch 46/100\n",
            "426/426 [==============================] - 0s 117us/step - loss: 0.8981 - binary_accuracy: 0.8638\n",
            "Epoch 47/100\n",
            "426/426 [==============================] - 0s 116us/step - loss: 0.8427 - binary_accuracy: 0.8404\n",
            "Epoch 48/100\n",
            "426/426 [==============================] - 0s 116us/step - loss: 0.8390 - binary_accuracy: 0.8897\n",
            "Epoch 49/100\n",
            "426/426 [==============================] - 0s 120us/step - loss: 0.8975 - binary_accuracy: 0.8380\n",
            "Epoch 50/100\n",
            "426/426 [==============================] - 0s 120us/step - loss: 1.1747 - binary_accuracy: 0.8028\n",
            "Epoch 51/100\n",
            "426/426 [==============================] - 0s 120us/step - loss: 1.0436 - binary_accuracy: 0.8169\n",
            "Epoch 52/100\n",
            "426/426 [==============================] - 0s 121us/step - loss: 1.1600 - binary_accuracy: 0.8122\n",
            "Epoch 53/100\n",
            "426/426 [==============================] - 0s 115us/step - loss: 0.9564 - binary_accuracy: 0.8239\n",
            "Epoch 54/100\n",
            "426/426 [==============================] - 0s 118us/step - loss: 1.0008 - binary_accuracy: 0.8310\n",
            "Epoch 55/100\n",
            "426/426 [==============================] - 0s 114us/step - loss: 0.9780 - binary_accuracy: 0.8075\n",
            "Epoch 56/100\n",
            "426/426 [==============================] - 0s 115us/step - loss: 1.0748 - binary_accuracy: 0.8052\n",
            "Epoch 57/100\n",
            "426/426 [==============================] - 0s 115us/step - loss: 0.9528 - binary_accuracy: 0.8451\n",
            "Epoch 58/100\n",
            "426/426 [==============================] - 0s 118us/step - loss: 0.8987 - binary_accuracy: 0.8638\n",
            "Epoch 59/100\n",
            "426/426 [==============================] - 0s 120us/step - loss: 0.8574 - binary_accuracy: 0.8662\n",
            "Epoch 60/100\n",
            "426/426 [==============================] - 0s 120us/step - loss: 0.9217 - binary_accuracy: 0.8286\n",
            "Epoch 61/100\n",
            "426/426 [==============================] - 0s 112us/step - loss: 0.9172 - binary_accuracy: 0.8498\n",
            "Epoch 62/100\n",
            "426/426 [==============================] - 0s 117us/step - loss: 0.8559 - binary_accuracy: 0.8592\n",
            "Epoch 63/100\n",
            "426/426 [==============================] - 0s 111us/step - loss: 0.8521 - binary_accuracy: 0.8427\n",
            "Epoch 64/100\n",
            "426/426 [==============================] - 0s 131us/step - loss: 0.9436 - binary_accuracy: 0.8427\n",
            "Epoch 65/100\n",
            "426/426 [==============================] - 0s 118us/step - loss: 0.9662 - binary_accuracy: 0.8474\n",
            "Epoch 66/100\n",
            "426/426 [==============================] - 0s 116us/step - loss: 0.9131 - binary_accuracy: 0.8286\n",
            "Epoch 67/100\n",
            "426/426 [==============================] - 0s 112us/step - loss: 0.8333 - binary_accuracy: 0.8592\n",
            "Epoch 68/100\n",
            "426/426 [==============================] - 0s 117us/step - loss: 1.0379 - binary_accuracy: 0.8451\n",
            "Epoch 69/100\n",
            "426/426 [==============================] - 0s 111us/step - loss: 0.8716 - binary_accuracy: 0.8521\n",
            "Epoch 70/100\n",
            "426/426 [==============================] - 0s 134us/step - loss: 0.8888 - binary_accuracy: 0.8404\n",
            "Epoch 71/100\n",
            "426/426 [==============================] - 0s 114us/step - loss: 1.0338 - binary_accuracy: 0.8357\n",
            "Epoch 72/100\n",
            "426/426 [==============================] - 0s 116us/step - loss: 0.8833 - binary_accuracy: 0.8638\n",
            "Epoch 73/100\n",
            "426/426 [==============================] - 0s 118us/step - loss: 0.8590 - binary_accuracy: 0.8662\n",
            "Epoch 74/100\n",
            "426/426 [==============================] - 0s 124us/step - loss: 1.0277 - binary_accuracy: 0.8380\n",
            "Epoch 75/100\n",
            "426/426 [==============================] - 0s 122us/step - loss: 1.1579 - binary_accuracy: 0.7958\n",
            "Epoch 76/100\n",
            "426/426 [==============================] - 0s 121us/step - loss: 0.9947 - binary_accuracy: 0.8333\n",
            "Epoch 77/100\n",
            "426/426 [==============================] - 0s 121us/step - loss: 1.1347 - binary_accuracy: 0.8239\n",
            "Epoch 78/100\n",
            "426/426 [==============================] - 0s 121us/step - loss: 0.8953 - binary_accuracy: 0.8404\n",
            "Epoch 79/100\n",
            "426/426 [==============================] - 0s 122us/step - loss: 0.7987 - binary_accuracy: 0.8709\n",
            "Epoch 80/100\n",
            "426/426 [==============================] - 0s 133us/step - loss: 0.8555 - binary_accuracy: 0.8568\n",
            "Epoch 81/100\n",
            "426/426 [==============================] - 0s 124us/step - loss: 0.8322 - binary_accuracy: 0.8685\n",
            "Epoch 82/100\n",
            "426/426 [==============================] - 0s 127us/step - loss: 0.8805 - binary_accuracy: 0.8427\n",
            "Epoch 83/100\n",
            "426/426 [==============================] - 0s 120us/step - loss: 0.8868 - binary_accuracy: 0.8498\n",
            "Epoch 84/100\n",
            "426/426 [==============================] - 0s 136us/step - loss: 0.8406 - binary_accuracy: 0.8662\n",
            "Epoch 85/100\n",
            "426/426 [==============================] - 0s 115us/step - loss: 0.9257 - binary_accuracy: 0.8568\n",
            "Epoch 86/100\n",
            "426/426 [==============================] - 0s 118us/step - loss: 0.9027 - binary_accuracy: 0.8545\n",
            "Epoch 87/100\n",
            "426/426 [==============================] - 0s 116us/step - loss: 0.8549 - binary_accuracy: 0.8592\n",
            "Epoch 88/100\n",
            "426/426 [==============================] - 0s 115us/step - loss: 1.0005 - binary_accuracy: 0.8028\n",
            "Epoch 89/100\n",
            "426/426 [==============================] - 0s 123us/step - loss: 0.9105 - binary_accuracy: 0.8474\n",
            "Epoch 90/100\n",
            "426/426 [==============================] - 0s 120us/step - loss: 0.8614 - binary_accuracy: 0.8545\n",
            "Epoch 91/100\n",
            "426/426 [==============================] - 0s 125us/step - loss: 0.8588 - binary_accuracy: 0.8451\n",
            "Epoch 92/100\n",
            "426/426 [==============================] - 0s 120us/step - loss: 0.8154 - binary_accuracy: 0.8545\n",
            "Epoch 93/100\n",
            "426/426 [==============================] - 0s 119us/step - loss: 0.9698 - binary_accuracy: 0.8404\n",
            "Epoch 94/100\n",
            "426/426 [==============================] - 0s 121us/step - loss: 0.8437 - binary_accuracy: 0.8662\n",
            "Epoch 95/100\n",
            "426/426 [==============================] - 0s 119us/step - loss: 0.8291 - binary_accuracy: 0.8803\n",
            "Epoch 96/100\n",
            "426/426 [==============================] - 0s 144us/step - loss: 0.9992 - binary_accuracy: 0.8146\n",
            "Epoch 97/100\n",
            "426/426 [==============================] - 0s 116us/step - loss: 0.9269 - binary_accuracy: 0.8404\n",
            "Epoch 98/100\n",
            "426/426 [==============================] - 0s 118us/step - loss: 0.8811 - binary_accuracy: 0.8474\n",
            "Epoch 99/100\n",
            "426/426 [==============================] - 0s 138us/step - loss: 0.8949 - binary_accuracy: 0.8568\n",
            "Epoch 100/100\n",
            "426/426 [==============================] - 0s 127us/step - loss: 1.0503 - binary_accuracy: 0.8310\n"
          ],
          "name": "stdout"
        },
        {
          "output_type": "execute_result",
          "data": {
            "text/plain": [
              "<keras.callbacks.History at 0x7f45b385a400>"
            ]
          },
          "metadata": {
            "tags": []
          },
          "execution_count": 13
        }
      ]
    },
    {
      "metadata": {
        "id": "TPCOjy12ttLu",
        "colab_type": "code",
        "colab": {}
      },
      "cell_type": "code",
      "source": [
        "pesos0 = classificador.layers[0].get_weights()\n",
        "pesos1 = classificador.layers[1].get_weights()\n",
        "pesos2 = classificador.layers[2].get_weights()"
      ],
      "execution_count": 0,
      "outputs": []
    },
    {
      "metadata": {
        "id": "pK4iUPnMuXhS",
        "colab_type": "code",
        "outputId": "ad0f2c5b-4188-4504-c520-534f521a3a4c",
        "colab": {
          "base_uri": "https://localhost:8080/",
          "height": 68
        }
      },
      "cell_type": "code",
      "source": [
        "print(len(pesos0))\n",
        "print(len(pesos1))\n",
        "print(len(pesos2))"
      ],
      "execution_count": 15,
      "outputs": [
        {
          "output_type": "stream",
          "text": [
            "2\n",
            "2\n",
            "2\n"
          ],
          "name": "stdout"
        }
      ]
    },
    {
      "metadata": {
        "id": "NuD8t6fBZ959",
        "colab_type": "code",
        "colab": {}
      },
      "cell_type": "code",
      "source": [
        "previsoes = classificador.predict(previsores_teste)"
      ],
      "execution_count": 0,
      "outputs": []
    },
    {
      "metadata": {
        "id": "gwo6rw9GahMs",
        "colab_type": "code",
        "colab": {}
      },
      "cell_type": "code",
      "source": [
        "previsoes = (previsoes > 0.5)"
      ],
      "execution_count": 0,
      "outputs": []
    },
    {
      "metadata": {
        "id": "zJ5NgiwpmFwe",
        "colab_type": "code",
        "colab": {}
      },
      "cell_type": "code",
      "source": [
        "from sklearn.metrics import confusion_matrix, accuracy_score"
      ],
      "execution_count": 0,
      "outputs": []
    },
    {
      "metadata": {
        "id": "vwvpXiSNmfPv",
        "colab_type": "code",
        "colab": {}
      },
      "cell_type": "code",
      "source": [
        "precisao = accuracy_score(classe_teste, previsoes)"
      ],
      "execution_count": 0,
      "outputs": []
    },
    {
      "metadata": {
        "id": "zn-HbCHsm7_h",
        "colab_type": "code",
        "outputId": "83c29f4a-2128-461d-aa95-00c0a0590399",
        "colab": {
          "base_uri": "https://localhost:8080/",
          "height": 34
        }
      },
      "cell_type": "code",
      "source": [
        "precisao"
      ],
      "execution_count": 20,
      "outputs": [
        {
          "output_type": "execute_result",
          "data": {
            "text/plain": [
              "0.8251748251748252"
            ]
          },
          "metadata": {
            "tags": []
          },
          "execution_count": 20
        }
      ]
    },
    {
      "metadata": {
        "id": "hiHgXUrem9i8",
        "colab_type": "code",
        "colab": {}
      },
      "cell_type": "code",
      "source": [
        "matriz = confusion_matrix(classe_teste, previsoes)"
      ],
      "execution_count": 0,
      "outputs": []
    },
    {
      "metadata": {
        "id": "5DVHRzUDnIB_",
        "colab_type": "code",
        "outputId": "7d7ee331-89ef-451f-b972-e68ba0402910",
        "colab": {
          "base_uri": "https://localhost:8080/",
          "height": 51
        }
      },
      "cell_type": "code",
      "source": [
        "matriz"
      ],
      "execution_count": 22,
      "outputs": [
        {
          "output_type": "execute_result",
          "data": {
            "text/plain": [
              "array([[43,  5],\n",
              "       [20, 75]])"
            ]
          },
          "metadata": {
            "tags": []
          },
          "execution_count": 22
        }
      ]
    },
    {
      "metadata": {
        "id": "ActurUrrnJ4L",
        "colab_type": "code",
        "outputId": "fb874c0e-e56f-4001-daba-f98cb21b308d",
        "colab": {
          "base_uri": "https://localhost:8080/",
          "height": 34
        }
      },
      "cell_type": "code",
      "source": [
        "resultado = classificador.evaluate(previsores_teste, classe_teste)"
      ],
      "execution_count": 23,
      "outputs": [
        {
          "output_type": "stream",
          "text": [
            "143/143 [==============================] - 0s 444us/step\n"
          ],
          "name": "stdout"
        }
      ]
    },
    {
      "metadata": {
        "id": "ZXLLVueBnpUT",
        "colab_type": "code",
        "outputId": "690ee520-d360-4c2d-c68d-8f03d6615a14",
        "colab": {
          "base_uri": "https://localhost:8080/",
          "height": 34
        }
      },
      "cell_type": "code",
      "source": [
        "resultado"
      ],
      "execution_count": 24,
      "outputs": [
        {
          "output_type": "execute_result",
          "data": {
            "text/plain": [
              "[1.0304863084029485, 0.8251748255916409]"
            ]
          },
          "metadata": {
            "tags": []
          },
          "execution_count": 24
        }
      ]
    },
    {
      "metadata": {
        "id": "VVXgMyRVnrFP",
        "colab_type": "code",
        "colab": {}
      },
      "cell_type": "code",
      "source": [
        ""
      ],
      "execution_count": 0,
      "outputs": []
    }
  ]
}