{
  "nbformat": 4,
  "nbformat_minor": 0,
  "metadata": {
    "colab": {
      "name": "GatoCachorro",
      "version": "0.3.2",
      "provenance": [],
      "include_colab_link": true
    },
    "kernelspec": {
      "name": "python3",
      "display_name": "Python 3"
    }
  },
  "cells": [
    {
      "cell_type": "markdown",
      "metadata": {
        "id": "view-in-github",
        "colab_type": "text"
      },
      "source": [
        "<a href=\"https://colab.research.google.com/github/joaopaulolndev/deep-learning-keras-projects/blob/master/CatsAndDogs/GatoCachorro.ipynb\" target=\"_parent\"><img src=\"https://colab.research.google.com/assets/colab-badge.svg\" alt=\"Open In Colab\"/></a>"
      ]
    },
    {
      "metadata": {
        "id": "kcRq4EJ1pHKC",
        "colab_type": "code",
        "colab": {}
      },
      "cell_type": "code",
      "source": [
        "\n",
        "from keras.models import Sequential\n",
        "from keras.layers import Dense, Flatten, Dropout, Conv2D, MaxPooling2D\n",
        "from keras.utils import np_utils\n",
        "from keras.layers.normalization import BatchNormalization\n",
        "from keras.preprocessing.image import ImageDataGenerator\n",
        "from keras.preprocessing import image\n",
        "\n",
        "import numpy as np"
      ],
      "execution_count": 0,
      "outputs": []
    },
    {
      "metadata": {
        "id": "8s8EJ_5sWJYi",
        "colab_type": "code",
        "outputId": "30f221b7-19a5-482e-ab17-cdead35a72c1",
        "colab": {
          "base_uri": "https://localhost:8080/",
          "height": 51
        }
      },
      "cell_type": "code",
      "source": [
        "# acessa o drive e lista o que tem dentro\n",
        "from google.colab import drive\n",
        "drive.mount('/content/drive')\n",
        "!ls \"/content/drive/My Drive/Colab Notebooks/DeepLearningAZ-Jones/dataset\""
      ],
      "execution_count": 90,
      "outputs": [
        {
          "output_type": "stream",
          "text": [
            "Drive already mounted at /content/drive; to attempt to forcibly remount, call drive.mount(\"/content/drive\", force_remount=True).\n",
            "test_set  training_set\n"
          ],
          "name": "stdout"
        }
      ]
    },
    {
      "metadata": {
        "id": "RW5cf31epN4L",
        "colab_type": "code",
        "colab": {}
      },
      "cell_type": "code",
      "source": [
        "# configurando as redes\n",
        "\n",
        "classificador = Sequential()\n",
        "classificador.add( Conv2D( 32, (3,3), input_shape=(64,64,3), activation = 'relu' ) )\n",
        "classificador.add(BatchNormalization())\n",
        "classificador.add(MaxPooling2D(pool_size=(2,2)))\n",
        "\n",
        "classificador.add( Conv2D( 32, (3,3), input_shape=(64,64,3), activation = 'relu' ) )\n",
        "classificador.add(BatchNormalization())\n",
        "classificador.add(MaxPooling2D(pool_size=(2,2)))\n",
        "\n",
        "classificador.add(Flatten())\n",
        "\n",
        "classificador.add( Dense( units=128, activation='relu') )\n",
        "classificador.add(Dropout(0.2))\n",
        "classificador.add( Dense( units=128, activation='relu') )\n",
        "classificador.add(Dropout(0.2))\n",
        "classificador.add( Dense( units=1, activation='sigmoid') )"
      ],
      "execution_count": 0,
      "outputs": []
    },
    {
      "metadata": {
        "id": "ZTxctLQnQH7W",
        "colab_type": "code",
        "colab": {}
      },
      "cell_type": "code",
      "source": [
        "# compilando a rede\n",
        "classificador.compile(loss='binary_crossentropy', optimizer = 'adam', metrics = ['accuracy'])"
      ],
      "execution_count": 0,
      "outputs": []
    },
    {
      "metadata": {
        "id": "cBLrv8fpQl4X",
        "colab_type": "code",
        "colab": {}
      },
      "cell_type": "code",
      "source": [
        "# gerando as imagens de treinamento\n",
        "gerador_treinamento = ImageDataGenerator(rescale = 1./255,\n",
        "                                        rotation_range = 7,\n",
        "                                        horizontal_flip =True,\n",
        "                                        shear_range = 0.2,\n",
        "                                        height_shift_range = 0.07,\n",
        "                                        zoom_range = 0.2)"
      ],
      "execution_count": 0,
      "outputs": []
    },
    {
      "metadata": {
        "id": "O6rJTWlMUhFl",
        "colab_type": "code",
        "colab": {}
      },
      "cell_type": "code",
      "source": [
        "gerador_teste = ImageDataGenerator(rescale = 1./255)"
      ],
      "execution_count": 0,
      "outputs": []
    },
    {
      "metadata": {
        "id": "3XGgkoEHUsZz",
        "colab_type": "code",
        "outputId": "cc185020-479c-4996-c641-4d7436359dea",
        "colab": {
          "base_uri": "https://localhost:8080/",
          "height": 34
        }
      },
      "cell_type": "code",
      "source": [
        "# recuperando a base de treinamento\n",
        "base_treinamento = gerador_treinamento.flow_from_directory('/content/drive/My Drive/Colab Notebooks/DeepLearningAZ-Jones/dataset/training_set',\n",
        "                                                          target_size = (64,64),\n",
        "                                                          batch_size = 32,\n",
        "                                                          class_mode = 'binary')"
      ],
      "execution_count": 95,
      "outputs": [
        {
          "output_type": "stream",
          "text": [
            "Found 4030 images belonging to 2 classes.\n"
          ],
          "name": "stdout"
        }
      ]
    },
    {
      "metadata": {
        "id": "2v47N6pAVIU3",
        "colab_type": "code",
        "outputId": "6be6216e-5679-4e40-cec4-718837b2c1f8",
        "colab": {
          "base_uri": "https://localhost:8080/",
          "height": 34
        }
      },
      "cell_type": "code",
      "source": [
        "# recuperando a base de teste\n",
        "base_teste = gerador_teste.flow_from_directory('/content/drive/My Drive/Colab Notebooks/DeepLearningAZ-Jones/dataset/test_set',\n",
        "                                              target_size = (64,64),\n",
        "                                              batch_size = 32,\n",
        "                                              class_mode = 'binary')"
      ],
      "execution_count": 96,
      "outputs": [
        {
          "output_type": "stream",
          "text": [
            "Found 1052 images belonging to 2 classes.\n"
          ],
          "name": "stdout"
        }
      ]
    },
    {
      "metadata": {
        "id": "0ltsbq-55hfp",
        "colab_type": "code",
        "colab": {}
      },
      "cell_type": "code",
      "source": [
        "# Valores de parametros para treinar bem a rede neural\n",
        "#steps_per_epoch=4000/32\n",
        "#print(steps_per_epoch)\n",
        "#validation_steps = 1000/32\n",
        "#print(validation_steps)"
      ],
      "execution_count": 0,
      "outputs": []
    },
    {
      "metadata": {
        "id": "oZBldKxCW3ZI",
        "colab_type": "code",
        "outputId": "557231d0-1e01-469c-b98c-d07c5a58c6a4",
        "colab": {
          "base_uri": "https://localhost:8080/",
          "height": 374
        }
      },
      "cell_type": "code",
      "source": [
        "# fazendo o treinamento da base\n",
        "classificador.fit_generator(base_treinamento, steps_per_epoch=100,\n",
        "                           epochs = 10, validation_data = base_teste, validation_steps = 31) # no exemplo eram 5 epocas"
      ],
      "execution_count": 98,
      "outputs": [
        {
          "output_type": "stream",
          "text": [
            "Epoch 1/10\n",
            "100/100 [==============================] - 97s 967ms/step - loss: 0.8557 - acc: 0.5709 - val_loss: 0.7178 - val_acc: 0.5685\n",
            "Epoch 2/10\n",
            "100/100 [==============================] - 90s 903ms/step - loss: 0.7235 - acc: 0.5888 - val_loss: 1.0934 - val_acc: 0.5536\n",
            "Epoch 3/10\n",
            "100/100 [==============================] - 90s 895ms/step - loss: 0.6732 - acc: 0.6313 - val_loss: 0.6670 - val_acc: 0.6083\n",
            "Epoch 4/10\n",
            "100/100 [==============================] - 90s 900ms/step - loss: 0.6323 - acc: 0.6610 - val_loss: 0.7037 - val_acc: 0.6407\n",
            "Epoch 5/10\n",
            "100/100 [==============================] - 90s 903ms/step - loss: 0.6124 - acc: 0.6791 - val_loss: 0.6872 - val_acc: 0.6174\n",
            "Epoch 6/10\n",
            "100/100 [==============================] - 90s 897ms/step - loss: 0.6038 - acc: 0.6796 - val_loss: 0.6146 - val_acc: 0.6670\n",
            "Epoch 7/10\n",
            "100/100 [==============================] - 90s 900ms/step - loss: 0.5635 - acc: 0.7066 - val_loss: 0.6024 - val_acc: 0.6781\n",
            "Epoch 8/10\n",
            "100/100 [==============================] - 90s 899ms/step - loss: 0.5538 - acc: 0.7098 - val_loss: 0.5872 - val_acc: 0.7146\n",
            "Epoch 9/10\n",
            "100/100 [==============================] - 90s 905ms/step - loss: 0.5606 - acc: 0.7110 - val_loss: 0.5934 - val_acc: 0.6984\n",
            "Epoch 10/10\n",
            "100/100 [==============================] - 90s 899ms/step - loss: 0.5229 - acc: 0.7366 - val_loss: 0.5948 - val_acc: 0.7237\n"
          ],
          "name": "stdout"
        },
        {
          "output_type": "execute_result",
          "data": {
            "text/plain": [
              "<keras.callbacks.History at 0x7ff526c405f8>"
            ]
          },
          "metadata": {
            "tags": []
          },
          "execution_count": 98
        }
      ]
    },
    {
      "metadata": {
        "id": "JHY5UvAFNUsN",
        "colab_type": "text"
      },
      "cell_type": "markdown",
      "source": [
        "# Salvando uma rede neural em um Json"
      ]
    },
    {
      "metadata": {
        "id": "Gr8ljIyHo_WT",
        "colab_type": "code",
        "colab": {}
      },
      "cell_type": "code",
      "source": [
        "\n",
        "classificador_json = classificador.to_json()\n",
        "with open('/content/drive/My Drive/Colab Notebooks/DeepLearningAZ-Jones/classificador_gato_cachorro.json','w') as json_file:\n",
        "  json_file.write(classificador_json)\n",
        "  \n",
        "  \n",
        "classificador.save_weights('/content/drive/My Drive/Colab Notebooks/DeepLearningAZ-Jones/classificador_gato_cachorro.h5')  "
      ],
      "execution_count": 0,
      "outputs": []
    },
    {
      "metadata": {
        "id": "MPd4TIIONYav",
        "colab_type": "text"
      },
      "cell_type": "markdown",
      "source": [
        "# Testando uma rede neural"
      ]
    },
    {
      "metadata": {
        "id": "Pa_4acIGXzHT",
        "colab_type": "code",
        "colab": {}
      },
      "cell_type": "code",
      "source": [
        "# Testando a classificacao apenas com 1 imagem\n",
        "# 2.dog.jpg\n",
        "imagem_teste = image.load_img('/content/drive/My Drive/Colab Notebooks/DeepLearningAZ-Jones/dataset/test_set/gato/1.boo.jpg', target_size = (64,64))\n",
        "imagem_teste = image.img_to_array(imagem_teste)\n",
        "imagem_teste /= 255"
      ],
      "execution_count": 0,
      "outputs": []
    },
    {
      "metadata": {
        "id": "nsXzFi0FkqwK",
        "colab_type": "code",
        "colab": {}
      },
      "cell_type": "code",
      "source": [
        "# expande as dimensoes da imagem\n",
        "imagem_teste = np.expand_dims(imagem_teste, axis = 0)"
      ],
      "execution_count": 0,
      "outputs": []
    },
    {
      "metadata": {
        "id": "IgsX6naoksyj",
        "colab_type": "code",
        "outputId": "7cb9963e-5249-4f11-91e9-51d677014d8a",
        "colab": {
          "base_uri": "https://localhost:8080/",
          "height": 34
        }
      },
      "cell_type": "code",
      "source": [
        "base_treinamento.class_indices"
      ],
      "execution_count": 102,
      "outputs": [
        {
          "output_type": "execute_result",
          "data": {
            "text/plain": [
              "{'cachorro': 0, 'gato': 1}"
            ]
          },
          "metadata": {
            "tags": []
          },
          "execution_count": 102
        }
      ]
    },
    {
      "metadata": {
        "id": "5T1s35nEee6Q",
        "colab_type": "code",
        "outputId": "a5e045d2-bc76-4bb1-9260-3ec4c3db6c44",
        "colab": {
          "base_uri": "https://localhost:8080/",
          "height": 34
        }
      },
      "cell_type": "code",
      "source": [
        "classificador.predict(imagem_teste)"
      ],
      "execution_count": 103,
      "outputs": [
        {
          "output_type": "execute_result",
          "data": {
            "text/plain": [
              "array([[0.03755818]], dtype=float32)"
            ]
          },
          "metadata": {
            "tags": []
          },
          "execution_count": 103
        }
      ]
    },
    {
      "metadata": {
        "id": "_J5HmmFNXidN",
        "colab_type": "code",
        "outputId": "116d3bf5-df00-4c17-f601-da1af4eda415",
        "colab": {
          "base_uri": "https://localhost:8080/",
          "height": 34
        }
      },
      "cell_type": "code",
      "source": [
        "previsao = classificador.predict(imagem_teste)\n",
        "previsao = (previsao > 0.5)\n",
        "\n",
        "# se for menor que 0.5 a precisao eh cachorro, se for maior eh gato\n",
        "if(previsao[0][0]):\n",
        "  print('Gato')\n",
        "else:\n",
        "   print('Cachorro')"
      ],
      "execution_count": 104,
      "outputs": [
        {
          "output_type": "stream",
          "text": [
            "Cachorro\n"
          ],
          "name": "stdout"
        }
      ]
    },
    {
      "metadata": {
        "id": "rX18lFmlNNTL",
        "colab_type": "text"
      },
      "cell_type": "markdown",
      "source": [
        "# Carregando uma rede neural já executada de um json"
      ]
    },
    {
      "metadata": {
        "id": "c3Z4CNjfsyoh",
        "colab_type": "code",
        "colab": {}
      },
      "cell_type": "code",
      "source": [
        ""
      ],
      "execution_count": 0,
      "outputs": []
    },
    {
      "metadata": {
        "id": "mmX3B5KVM64n",
        "colab_type": "code",
        "colab": {}
      },
      "cell_type": "code",
      "source": [
        "# carregando a rede neural salva no json\n",
        "import numpy as np\n",
        "from keras.models import model_from_json"
      ],
      "execution_count": 0,
      "outputs": []
    },
    {
      "metadata": {
        "id": "5fub6tb8NBUo",
        "colab_type": "code",
        "colab": {}
      },
      "cell_type": "code",
      "source": [
        "arquivo = open('/content/drive/My Drive/Colab Notebooks/DeepLearningAZ-Jones/classificador_gato_cachorro.json','r')"
      ],
      "execution_count": 0,
      "outputs": []
    },
    {
      "metadata": {
        "id": "P-pHWbwSNHRQ",
        "colab_type": "code",
        "colab": {}
      },
      "cell_type": "code",
      "source": [
        "estrutura_rede = arquivo.read()\n",
        "arquivo.close()"
      ],
      "execution_count": 0,
      "outputs": []
    },
    {
      "metadata": {
        "id": "Uc3zEjIuN8p6",
        "colab_type": "code",
        "colab": {}
      },
      "cell_type": "code",
      "source": [
        "classificador = model_from_json(estrutura_rede)"
      ],
      "execution_count": 0,
      "outputs": []
    },
    {
      "metadata": {
        "id": "Xc32QdHLN92b",
        "colab_type": "code",
        "colab": {}
      },
      "cell_type": "code",
      "source": [
        "classificador.load_weights('/content/drive/My Drive/Colab Notebooks/DeepLearningAZ-Jones/classificador_gato_cachorro.h5')"
      ],
      "execution_count": 0,
      "outputs": []
    },
    {
      "metadata": {
        "id": "_cTDuGJwOub7",
        "colab_type": "code",
        "colab": {}
      },
      "cell_type": "code",
      "source": [
        "# Testando a classificacao apenas com 1 imagem\n",
        "# 2.dog.jpg\n",
        "imagem_teste = image.load_img('/content/drive/My Drive/Colab Notebooks/DeepLearningAZ-Jones/dataset/test_set/gato/1.egipicio.jpg', target_size = (64,64))\n",
        "imagem_teste = image.img_to_array(imagem_teste)\n",
        "imagem_teste /= 255"
      ],
      "execution_count": 0,
      "outputs": []
    },
    {
      "metadata": {
        "id": "-Xz9AijgP39b",
        "colab_type": "code",
        "colab": {}
      },
      "cell_type": "code",
      "source": [
        "# expande as dimensoes da imagem\n",
        "imagem_teste = np.expand_dims(imagem_teste, axis = 0)"
      ],
      "execution_count": 0,
      "outputs": []
    },
    {
      "metadata": {
        "id": "z601ThoXQCDz",
        "colab_type": "code",
        "outputId": "5e489ef2-4374-4b61-f156-cec6629303a0",
        "colab": {
          "base_uri": "https://localhost:8080/",
          "height": 34
        }
      },
      "cell_type": "code",
      "source": [
        "base_treinamento.class_indices"
      ],
      "execution_count": 112,
      "outputs": [
        {
          "output_type": "execute_result",
          "data": {
            "text/plain": [
              "{'cachorro': 0, 'gato': 1}"
            ]
          },
          "metadata": {
            "tags": []
          },
          "execution_count": 112
        }
      ]
    },
    {
      "metadata": {
        "id": "qWqO_y8yQCYs",
        "colab_type": "code",
        "outputId": "16cb92aa-f85b-4822-9055-497b08864878",
        "colab": {
          "base_uri": "https://localhost:8080/",
          "height": 34
        }
      },
      "cell_type": "code",
      "source": [
        "classificador.predict(imagem_teste)"
      ],
      "execution_count": 113,
      "outputs": [
        {
          "output_type": "execute_result",
          "data": {
            "text/plain": [
              "array([[0.58925366]], dtype=float32)"
            ]
          },
          "metadata": {
            "tags": []
          },
          "execution_count": 113
        }
      ]
    },
    {
      "metadata": {
        "id": "qjs4_yXCQEUj",
        "colab_type": "code",
        "outputId": "1c3ab4f7-53db-48ea-981c-cadf83855afa",
        "colab": {
          "base_uri": "https://localhost:8080/",
          "height": 34
        }
      },
      "cell_type": "code",
      "source": [
        "previsao = classificador.predict(imagem_teste)\n",
        "previsao = (previsao > 0.5)\n",
        "\n",
        "# se for menor que 0.5 a precisao eh cachorro, se for maior eh gato\n",
        "if(previsao[0][0]):\n",
        "  print('Gato')\n",
        "else:\n",
        "   print('Cachorro')"
      ],
      "execution_count": 114,
      "outputs": [
        {
          "output_type": "stream",
          "text": [
            "Gato\n"
          ],
          "name": "stdout"
        }
      ]
    },
    {
      "metadata": {
        "id": "0qgtbAXxQHaz",
        "colab_type": "code",
        "colab": {}
      },
      "cell_type": "code",
      "source": [
        ""
      ],
      "execution_count": 0,
      "outputs": []
    }
  ]
}